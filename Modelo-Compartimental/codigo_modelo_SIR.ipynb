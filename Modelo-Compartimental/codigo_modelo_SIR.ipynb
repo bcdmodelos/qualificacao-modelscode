{
  "nbformat": 4,
  "nbformat_minor": 0,
  "metadata": {
    "colab": {
      "provenance": [],
      "collapsed_sections": [],
      "authorship_tag": "ABX9TyOhgIfEQrONHKjN/hcqYWJT",
      "include_colab_link": true
    },
    "kernelspec": {
      "name": "python3",
      "display_name": "Python 3"
    },
    "language_info": {
      "name": "python"
    }
  },
  "cells": [
    {
      "cell_type": "markdown",
      "metadata": {
        "id": "view-in-github",
        "colab_type": "text"
      },
      "source": [
        "<a href=\"https://colab.research.google.com/github/bcdmodelos/qualificacao-modelscode/blob/main/Modelo-Compartimental/codigo_modelo_SIR.ipynb\" target=\"_parent\"><img src=\"https://colab.research.google.com/assets/colab-badge.svg\" alt=\"Open In Colab\"/></a>"
      ]
    },
    {
      "cell_type": "markdown",
      "source": [
        "# SIR (Susceptível - Infectado - Recuperado)"
      ],
      "metadata": {
        "id": "xYE0J0B7QMwm"
      }
    },
    {
      "cell_type": "code",
      "execution_count": 25,
      "metadata": {
        "id": "z3sKqGDJNkq5"
      },
      "outputs": [],
      "source": [
        "import pandas as pd\n",
        "import numpy as np\n",
        "from scipy.integrate import odeint\n",
        "import matplotlib.pyplot as plt"
      ]
    },
    {
      "cell_type": "code",
      "source": [
        "from google.colab import drive\n",
        "drive.mount('/content/drive')"
      ],
      "metadata": {
        "colab": {
          "base_uri": "https://localhost:8080/"
        },
        "id": "HQM-ucbP4QZK",
        "outputId": "6ff45bec-f0e1-4d65-a7a5-6a4ff5b774c3"
      },
      "execution_count": 26,
      "outputs": [
        {
          "output_type": "stream",
          "name": "stdout",
          "text": [
            "Drive already mounted at /content/drive; to attempt to forcibly remount, call drive.mount(\"/content/drive\", force_remount=True).\n"
          ]
        }
      ]
    },
    {
      "cell_type": "code",
      "source": [
        "!ls"
      ],
      "metadata": {
        "colab": {
          "base_uri": "https://localhost:8080/"
        },
        "id": "e0zh4c5E4QdN",
        "outputId": "1b9c5659-381d-44d4-f217-4ccabed4c364"
      },
      "execution_count": 27,
      "outputs": [
        {
          "output_type": "stream",
          "name": "stdout",
          "text": [
            "dataset_Amazonas_usableData.csv\n",
            "dataset_Bodocongo_usable.csv\n",
            "dataset_Brasil_usableData.csv\n",
            "dataset_CampinaGrande_casos_acumulados_usable.csv\n",
            "dataset_CampinaGrande_casos_diarios_usable.csv\n",
            "dataset_CampinaGrande_usableData.csv\n",
            "dataset_Catole_usable.csv\n",
            "dataset_Malvinas_usable.csv\n",
            "dataset_Paraiba_usableData.csv\n",
            "dataset_Pernambuco_usableData.csv\n"
          ]
        }
      ]
    },
    {
      "cell_type": "code",
      "source": [
        "%cd /content/drive/MyDrive/Notebooks_Doutorado/base-campina/\n",
        "\n",
        "!ls"
      ],
      "metadata": {
        "colab": {
          "base_uri": "https://localhost:8080/"
        },
        "id": "g0QRMfhc4h2_",
        "outputId": "580e68ca-7f6d-4658-c06e-8a2b482b3496"
      },
      "execution_count": 28,
      "outputs": [
        {
          "output_type": "stream",
          "name": "stdout",
          "text": [
            "/content/drive/MyDrive/Notebooks_Doutorado/base-campina\n",
            "dataset_Amazonas_usableData.csv\n",
            "dataset_Bodocongo_usable.csv\n",
            "dataset_Brasil_usableData.csv\n",
            "dataset_CampinaGrande_casos_acumulados_usable.csv\n",
            "dataset_CampinaGrande_casos_diarios_usable.csv\n",
            "dataset_CampinaGrande_usableData.csv\n",
            "dataset_Catole_usable.csv\n",
            "dataset_Malvinas_usable.csv\n",
            "dataset_Paraiba_usableData.csv\n",
            "dataset_Pernambuco_usableData.csv\n"
          ]
        }
      ]
    },
    {
      "cell_type": "markdown",
      "source": [
        "# Análise dos Dados do Brasil\n"
      ],
      "metadata": {
        "id": "YzqfjvTh_4b-"
      }
    },
    {
      "cell_type": "markdown",
      "source": [
        "Calculo para Taxa de Infecção/Transmissão para o Brasil"
      ],
      "metadata": {
        "id": "fEh6ay874Q5t"
      }
    },
    {
      "cell_type": "code",
      "source": [
        "file_path = \"./dataset_Brasil_usableData.csv\"\n",
        "brasilDataSet = pd.read_csv(file_path, encoding='latin1')\n",
        "brasilDataSet.head()"
      ],
      "metadata": {
        "colab": {
          "base_uri": "https://localhost:8080/",
          "height": 206
        },
        "id": "tYCBlIXI4h6m",
        "outputId": "f6e96136-f99b-4475-e3db-ffdc7fba8ea6"
      },
      "execution_count": 29,
      "outputs": [
        {
          "output_type": "execute_result",
          "data": {
            "text/plain": [
              "   Unnamed: 0        date  totalCases  deaths  suspects  recovered  tests  \\\n",
              "0         293  2020-03-22        1594      25       NaN        NaN    NaN   \n",
              "1         321  2020-03-23        1952      34   15867.0        8.0    NaN   \n",
              "2         349  2020-03-24        2255      47   17700.0       20.0    NaN   \n",
              "3         377  2020-03-25        2566      59   27227.0       27.0    NaN   \n",
              "4         405  2020-03-26        2990      77   50012.0       42.0    NaN   \n",
              "\n",
              "   vaccinated  vaccinated_second  activeCases  newVaccinated  \\\n",
              "0         NaN                NaN          NaN            NaN   \n",
              "1         NaN                NaN       1910.0            NaN   \n",
              "2         NaN                NaN       2188.0            NaN   \n",
              "3         NaN                NaN       2480.0            NaN   \n",
              "4         NaN                NaN       2871.0            NaN   \n",
              "\n",
              "   newVaccinated_second  \n",
              "0                   NaN  \n",
              "1                   NaN  \n",
              "2                   NaN  \n",
              "3                   NaN  \n",
              "4                   NaN  "
            ],
            "text/html": [
              "\n",
              "  <div id=\"df-a2918ef2-47a8-44cd-a70b-91d3149d2499\">\n",
              "    <div class=\"colab-df-container\">\n",
              "      <div>\n",
              "<style scoped>\n",
              "    .dataframe tbody tr th:only-of-type {\n",
              "        vertical-align: middle;\n",
              "    }\n",
              "\n",
              "    .dataframe tbody tr th {\n",
              "        vertical-align: top;\n",
              "    }\n",
              "\n",
              "    .dataframe thead th {\n",
              "        text-align: right;\n",
              "    }\n",
              "</style>\n",
              "<table border=\"1\" class=\"dataframe\">\n",
              "  <thead>\n",
              "    <tr style=\"text-align: right;\">\n",
              "      <th></th>\n",
              "      <th>Unnamed: 0</th>\n",
              "      <th>date</th>\n",
              "      <th>totalCases</th>\n",
              "      <th>deaths</th>\n",
              "      <th>suspects</th>\n",
              "      <th>recovered</th>\n",
              "      <th>tests</th>\n",
              "      <th>vaccinated</th>\n",
              "      <th>vaccinated_second</th>\n",
              "      <th>activeCases</th>\n",
              "      <th>newVaccinated</th>\n",
              "      <th>newVaccinated_second</th>\n",
              "    </tr>\n",
              "  </thead>\n",
              "  <tbody>\n",
              "    <tr>\n",
              "      <th>0</th>\n",
              "      <td>293</td>\n",
              "      <td>2020-03-22</td>\n",
              "      <td>1594</td>\n",
              "      <td>25</td>\n",
              "      <td>NaN</td>\n",
              "      <td>NaN</td>\n",
              "      <td>NaN</td>\n",
              "      <td>NaN</td>\n",
              "      <td>NaN</td>\n",
              "      <td>NaN</td>\n",
              "      <td>NaN</td>\n",
              "      <td>NaN</td>\n",
              "    </tr>\n",
              "    <tr>\n",
              "      <th>1</th>\n",
              "      <td>321</td>\n",
              "      <td>2020-03-23</td>\n",
              "      <td>1952</td>\n",
              "      <td>34</td>\n",
              "      <td>15867.0</td>\n",
              "      <td>8.0</td>\n",
              "      <td>NaN</td>\n",
              "      <td>NaN</td>\n",
              "      <td>NaN</td>\n",
              "      <td>1910.0</td>\n",
              "      <td>NaN</td>\n",
              "      <td>NaN</td>\n",
              "    </tr>\n",
              "    <tr>\n",
              "      <th>2</th>\n",
              "      <td>349</td>\n",
              "      <td>2020-03-24</td>\n",
              "      <td>2255</td>\n",
              "      <td>47</td>\n",
              "      <td>17700.0</td>\n",
              "      <td>20.0</td>\n",
              "      <td>NaN</td>\n",
              "      <td>NaN</td>\n",
              "      <td>NaN</td>\n",
              "      <td>2188.0</td>\n",
              "      <td>NaN</td>\n",
              "      <td>NaN</td>\n",
              "    </tr>\n",
              "    <tr>\n",
              "      <th>3</th>\n",
              "      <td>377</td>\n",
              "      <td>2020-03-25</td>\n",
              "      <td>2566</td>\n",
              "      <td>59</td>\n",
              "      <td>27227.0</td>\n",
              "      <td>27.0</td>\n",
              "      <td>NaN</td>\n",
              "      <td>NaN</td>\n",
              "      <td>NaN</td>\n",
              "      <td>2480.0</td>\n",
              "      <td>NaN</td>\n",
              "      <td>NaN</td>\n",
              "    </tr>\n",
              "    <tr>\n",
              "      <th>4</th>\n",
              "      <td>405</td>\n",
              "      <td>2020-03-26</td>\n",
              "      <td>2990</td>\n",
              "      <td>77</td>\n",
              "      <td>50012.0</td>\n",
              "      <td>42.0</td>\n",
              "      <td>NaN</td>\n",
              "      <td>NaN</td>\n",
              "      <td>NaN</td>\n",
              "      <td>2871.0</td>\n",
              "      <td>NaN</td>\n",
              "      <td>NaN</td>\n",
              "    </tr>\n",
              "  </tbody>\n",
              "</table>\n",
              "</div>\n",
              "      <button class=\"colab-df-convert\" onclick=\"convertToInteractive('df-a2918ef2-47a8-44cd-a70b-91d3149d2499')\"\n",
              "              title=\"Convert this dataframe to an interactive table.\"\n",
              "              style=\"display:none;\">\n",
              "        \n",
              "  <svg xmlns=\"http://www.w3.org/2000/svg\" height=\"24px\"viewBox=\"0 0 24 24\"\n",
              "       width=\"24px\">\n",
              "    <path d=\"M0 0h24v24H0V0z\" fill=\"none\"/>\n",
              "    <path d=\"M18.56 5.44l.94 2.06.94-2.06 2.06-.94-2.06-.94-.94-2.06-.94 2.06-2.06.94zm-11 1L8.5 8.5l.94-2.06 2.06-.94-2.06-.94L8.5 2.5l-.94 2.06-2.06.94zm10 10l.94 2.06.94-2.06 2.06-.94-2.06-.94-.94-2.06-.94 2.06-2.06.94z\"/><path d=\"M17.41 7.96l-1.37-1.37c-.4-.4-.92-.59-1.43-.59-.52 0-1.04.2-1.43.59L10.3 9.45l-7.72 7.72c-.78.78-.78 2.05 0 2.83L4 21.41c.39.39.9.59 1.41.59.51 0 1.02-.2 1.41-.59l7.78-7.78 2.81-2.81c.8-.78.8-2.07 0-2.86zM5.41 20L4 18.59l7.72-7.72 1.47 1.35L5.41 20z\"/>\n",
              "  </svg>\n",
              "      </button>\n",
              "      \n",
              "  <style>\n",
              "    .colab-df-container {\n",
              "      display:flex;\n",
              "      flex-wrap:wrap;\n",
              "      gap: 12px;\n",
              "    }\n",
              "\n",
              "    .colab-df-convert {\n",
              "      background-color: #E8F0FE;\n",
              "      border: none;\n",
              "      border-radius: 50%;\n",
              "      cursor: pointer;\n",
              "      display: none;\n",
              "      fill: #1967D2;\n",
              "      height: 32px;\n",
              "      padding: 0 0 0 0;\n",
              "      width: 32px;\n",
              "    }\n",
              "\n",
              "    .colab-df-convert:hover {\n",
              "      background-color: #E2EBFA;\n",
              "      box-shadow: 0px 1px 2px rgba(60, 64, 67, 0.3), 0px 1px 3px 1px rgba(60, 64, 67, 0.15);\n",
              "      fill: #174EA6;\n",
              "    }\n",
              "\n",
              "    [theme=dark] .colab-df-convert {\n",
              "      background-color: #3B4455;\n",
              "      fill: #D2E3FC;\n",
              "    }\n",
              "\n",
              "    [theme=dark] .colab-df-convert:hover {\n",
              "      background-color: #434B5C;\n",
              "      box-shadow: 0px 1px 3px 1px rgba(0, 0, 0, 0.15);\n",
              "      filter: drop-shadow(0px 1px 2px rgba(0, 0, 0, 0.3));\n",
              "      fill: #FFFFFF;\n",
              "    }\n",
              "  </style>\n",
              "\n",
              "      <script>\n",
              "        const buttonEl =\n",
              "          document.querySelector('#df-a2918ef2-47a8-44cd-a70b-91d3149d2499 button.colab-df-convert');\n",
              "        buttonEl.style.display =\n",
              "          google.colab.kernel.accessAllowed ? 'block' : 'none';\n",
              "\n",
              "        async function convertToInteractive(key) {\n",
              "          const element = document.querySelector('#df-a2918ef2-47a8-44cd-a70b-91d3149d2499');\n",
              "          const dataTable =\n",
              "            await google.colab.kernel.invokeFunction('convertToInteractive',\n",
              "                                                     [key], {});\n",
              "          if (!dataTable) return;\n",
              "\n",
              "          const docLinkHtml = 'Like what you see? Visit the ' +\n",
              "            '<a target=\"_blank\" href=https://colab.research.google.com/notebooks/data_table.ipynb>data table notebook</a>'\n",
              "            + ' to learn more about interactive tables.';\n",
              "          element.innerHTML = '';\n",
              "          dataTable['output_type'] = 'display_data';\n",
              "          await google.colab.output.renderOutput(dataTable, element);\n",
              "          const docLink = document.createElement('div');\n",
              "          docLink.innerHTML = docLinkHtml;\n",
              "          element.appendChild(docLink);\n",
              "        }\n",
              "      </script>\n",
              "    </div>\n",
              "  </div>\n",
              "  "
            ]
          },
          "metadata": {},
          "execution_count": 29
        }
      ]
    },
    {
      "cell_type": "code",
      "source": [
        "# Explicação o calculo para extraí taxa de tramissão\n",
        "\n",
        "# Taxa de transmissão comunitária de COVID-19 em 14 dias: \n",
        "# soma de todos os NOVOS casos de COVID-19 nos últimos 14 dias,\n",
        "# dividido pela população e multiplicado por 100.000 = taxa de casos novos por 100.000 habitantes nos últimos 14 dias.\n",
        "\n",
        "# taxaInfeccaoBrasil = ((totalCases[14] - totalCases[0]) / populacaoBrasil) * 100.000"
      ],
      "metadata": {
        "id": "ufua5K194iBT"
      },
      "execution_count": 30,
      "outputs": []
    },
    {
      "cell_type": "code",
      "source": [
        "populacaoBrasil = 212600000\n",
        "#taxaInfeccaoBrasilCalculo = ((brasilDataSet.totalCases[14] - brasilDataSet.totalCases[0])/ populacaoBrasil) * 100000\n",
        "taxaInfeccaoBrasilCalculo = 3.56\n",
        "taxaInfeccaoBrasilCalculo"
      ],
      "metadata": {
        "colab": {
          "base_uri": "https://localhost:8080/"
        },
        "id": "ZmceQIxT5Eqh",
        "outputId": "6859426e-b96a-4efe-dea6-24975a77936b"
      },
      "execution_count": 47,
      "outputs": [
        {
          "output_type": "execute_result",
          "data": {
            "text/plain": [
              "3.56"
            ]
          },
          "metadata": {},
          "execution_count": 47
        }
      ]
    },
    {
      "cell_type": "markdown",
      "source": [
        "Modelo SIR para os Dados do Brasil"
      ],
      "metadata": {
        "id": "7P6PkX2GTG1g"
      }
    },
    {
      "cell_type": "code",
      "source": [
        "I0_Brasil = 1 # # Número Inicial de Indivíduos Infectados no Brasil\n",
        "\n",
        "R0_Brasil = 0 # Número Inicial de Indivíduos Recuperados no Brasil\n",
        "\n",
        "S0_Brasil = populacaoBrasil - I0_Brasil - R0_Brasil # S0 = Suscetíveis à infecção inicialmente\n",
        "\n",
        "taxaInfeccaoBrasil = taxaInfeccaoBrasilCalculo # Taxa de contato/infecção (beta)\n",
        "\n",
        "dias = 15\n",
        "gama_Brasil = 1/dias # Taxa média de recuperação (gama) = 1/dias\n",
        "\n",
        "tempo_Brasil = np.linspace(0, 90, 90)"
      ],
      "metadata": {
        "id": "d1uzEI5TQaTS"
      },
      "execution_count": 48,
      "outputs": []
    },
    {
      "cell_type": "code",
      "source": [
        "def equacoesSIR(y_Brasil, tempo_Brasil, populacaoBrasil, taxaInfeccaoBrasil, gama_Brasil):\n",
        "    S_Brasil, I_Brasil, R_Brasil = y_Brasil\n",
        "    dSdt_Brasil = -taxaInfeccaoBrasil * S_Brasil * I_Brasil / populacaoBrasil\n",
        "    dIdt_Brasil = taxaInfeccaoBrasil * S_Brasil * I_Brasil / populacaoBrasil - gama_Brasil * I_Brasil\n",
        "    dRdt_Brasil = gama_Brasil * I_Brasil\n",
        "    return dSdt_Brasil, dIdt_Brasil, dRdt_Brasil\n",
        "\n",
        "y0Brasil = S0_Brasil, I0_Brasil, R0_Brasil\n",
        "\n",
        "i_Brasil = odeint(equacoesSIR, y0Brasil, tempo_Brasil, args=(populacaoBrasil, taxaInfeccaoBrasil, gama_Brasil))\n",
        "S_Brasil, I_Brasil, R_Brasil = i_Brasil.T"
      ],
      "metadata": {
        "id": "KIrLQKKZTte1"
      },
      "execution_count": 49,
      "outputs": []
    },
    {
      "cell_type": "code",
      "source": [
        "fig = plt.figure(figsize=(10, 4),facecolor='w')\n",
        "ax = fig.add_subplot(111, facecolor='#bad0f7', axisbelow=True)\n",
        "ax.plot(tempo_Brasil, S_Brasil/100000, 'b', alpha=0.9, lw=2, label='Suscetíveis')\n",
        "ax.plot(tempo_Brasil, I_Brasil/100000, 'r', alpha=0.9, lw=2, label='Infectados')\n",
        "ax.plot(tempo_Brasil, R_Brasil/100000, 'g', alpha=0.9, lw=2, label='Recuperados')\n",
        "ax.set_xlabel('Tempo (dias)')\n",
        "ax.set_ylabel('Número População (100000)')\n",
        "ax.set_ylim(0,4.2)\n",
        "ax.yaxis.set_tick_params(length=0)\n",
        "ax.xaxis.set_tick_params(length=0)\n",
        "ax.grid(b=True, which='major', c='w', lw=2, ls='-')\n",
        "plt.axis(xmin=-1, xmax=40, ymin=-1, ymax=2500)\n",
        "legend = ax.legend()\n",
        "legend.get_frame().set_alpha(0.5)\n",
        "for spine in ('top', 'right', 'bottom', 'left'):\n",
        "    ax.spines[spine].set_visible(False)\n",
        "plt.show()"
      ],
      "metadata": {
        "colab": {
          "base_uri": "https://localhost:8080/",
          "height": 280
        },
        "id": "cgJMTE9hTwGi",
        "outputId": "0aea8c42-fb61-4e86-d72b-4a32a65993ce"
      },
      "execution_count": 50,
      "outputs": [
        {
          "output_type": "display_data",
          "data": {
            "text/plain": [
              "<Figure size 720x288 with 1 Axes>"
            ],
            "image/png": "[encoded data removed]"
          },
          "metadata": {}
        }
      ]
    },
    {
      "cell_type": "markdown",
      "source": [
        "# Análise dos Dados da Paraíba"
      ],
      "metadata": {
        "id": "DJe7MnQQTHDi"
      }
    },
    {
      "cell_type": "markdown",
      "source": [
        "Calculo para Taxa de Infecção/Transmissão para a Paraíba "
      ],
      "metadata": {
        "id": "ybKWcRUg_tQW"
      }
    },
    {
      "cell_type": "code",
      "source": [
        "file_path = \"./dataset_Paraiba_usableData.csv\"\n",
        "paraibaDataSet = pd.read_csv(file_path, encoding='latin1')\n",
        "paraibaDataSet.head()"
      ],
      "metadata": {
        "colab": {
          "base_uri": "https://localhost:8080/",
          "height": 206
        },
        "id": "QA_232NeWpff",
        "outputId": "3fcffb7e-0e35-4abc-d2f5-282d73204ddd"
      },
      "execution_count": 10,
      "outputs": [
        {
          "output_type": "execute_result",
          "data": {
            "text/plain": [
              "   Unnamed: 0        date  totalCases  deaths  suspects  recovered  tests  \\\n",
              "0         280  2020-03-22           1       0       NaN        NaN    NaN   \n",
              "1         308  2020-03-23           2       0     206.0        NaN    NaN   \n",
              "2         336  2020-03-24           3       0     206.0        NaN    NaN   \n",
              "3         364  2020-03-25           5       0     206.0        NaN    NaN   \n",
              "4         392  2020-03-26           6       0     206.0        NaN    NaN   \n",
              "\n",
              "   vaccinated  vaccinated_second  activeCases  newVaccinated  \\\n",
              "0         NaN                NaN          NaN            NaN   \n",
              "1         NaN                NaN          NaN            NaN   \n",
              "2         NaN                NaN          NaN            NaN   \n",
              "3         NaN                NaN          NaN            NaN   \n",
              "4         NaN                NaN          NaN            NaN   \n",
              "\n",
              "   newVaccinated_second  \n",
              "0                   NaN  \n",
              "1                   NaN  \n",
              "2                   NaN  \n",
              "3                   NaN  \n",
              "4                   NaN  "
            ],
            "text/html": [
              "\n",
              "  <div id=\"df-1c1c9270-9a2c-4e57-8f69-d61250f18dbf\">\n",
              "    <div class=\"colab-df-container\">\n",
              "      <div>\n",
              "<style scoped>\n",
              "    .dataframe tbody tr th:only-of-type {\n",
              "        vertical-align: middle;\n",
              "    }\n",
              "\n",
              "    .dataframe tbody tr th {\n",
              "        vertical-align: top;\n",
              "    }\n",
              "\n",
              "    .dataframe thead th {\n",
              "        text-align: right;\n",
              "    }\n",
              "</style>\n",
              "<table border=\"1\" class=\"dataframe\">\n",
              "  <thead>\n",
              "    <tr style=\"text-align: right;\">\n",
              "      <th></th>\n",
              "      <th>Unnamed: 0</th>\n",
              "      <th>date</th>\n",
              "      <th>totalCases</th>\n",
              "      <th>deaths</th>\n",
              "      <th>suspects</th>\n",
              "      <th>recovered</th>\n",
              "      <th>tests</th>\n",
              "      <th>vaccinated</th>\n",
              "      <th>vaccinated_second</th>\n",
              "      <th>activeCases</th>\n",
              "      <th>newVaccinated</th>\n",
              "      <th>newVaccinated_second</th>\n",
              "    </tr>\n",
              "  </thead>\n",
              "  <tbody>\n",
              "    <tr>\n",
              "      <th>0</th>\n",
              "      <td>280</td>\n",
              "      <td>2020-03-22</td>\n",
              "      <td>1</td>\n",
              "      <td>0</td>\n",
              "      <td>NaN</td>\n",
              "      <td>NaN</td>\n",
              "      <td>NaN</td>\n",
              "      <td>NaN</td>\n",
              "      <td>NaN</td>\n",
              "      <td>NaN</td>\n",
              "      <td>NaN</td>\n",
              "      <td>NaN</td>\n",
              "    </tr>\n",
              "    <tr>\n",
              "      <th>1</th>\n",
              "      <td>308</td>\n",
              "      <td>2020-03-23</td>\n",
              "      <td>2</td>\n",
              "      <td>0</td>\n",
              "      <td>206.0</td>\n",
              "      <td>NaN</td>\n",
              "      <td>NaN</td>\n",
              "      <td>NaN</td>\n",
              "      <td>NaN</td>\n",
              "      <td>NaN</td>\n",
              "      <td>NaN</td>\n",
              "      <td>NaN</td>\n",
              "    </tr>\n",
              "    <tr>\n",
              "      <th>2</th>\n",
              "      <td>336</td>\n",
              "      <td>2020-03-24</td>\n",
              "      <td>3</td>\n",
              "      <td>0</td>\n",
              "      <td>206.0</td>\n",
              "      <td>NaN</td>\n",
              "      <td>NaN</td>\n",
              "      <td>NaN</td>\n",
              "      <td>NaN</td>\n",
              "      <td>NaN</td>\n",
              "      <td>NaN</td>\n",
              "      <td>NaN</td>\n",
              "    </tr>\n",
              "    <tr>\n",
              "      <th>3</th>\n",
              "      <td>364</td>\n",
              "      <td>2020-03-25</td>\n",
              "      <td>5</td>\n",
              "      <td>0</td>\n",
              "      <td>206.0</td>\n",
              "      <td>NaN</td>\n",
              "      <td>NaN</td>\n",
              "      <td>NaN</td>\n",
              "      <td>NaN</td>\n",
              "      <td>NaN</td>\n",
              "      <td>NaN</td>\n",
              "      <td>NaN</td>\n",
              "    </tr>\n",
              "    <tr>\n",
              "      <th>4</th>\n",
              "      <td>392</td>\n",
              "      <td>2020-03-26</td>\n",
              "      <td>6</td>\n",
              "      <td>0</td>\n",
              "      <td>206.0</td>\n",
              "      <td>NaN</td>\n",
              "      <td>NaN</td>\n",
              "      <td>NaN</td>\n",
              "      <td>NaN</td>\n",
              "      <td>NaN</td>\n",
              "      <td>NaN</td>\n",
              "      <td>NaN</td>\n",
              "    </tr>\n",
              "  </tbody>\n",
              "</table>\n",
              "</div>\n",
              "      <button class=\"colab-df-convert\" onclick=\"convertToInteractive('df-1c1c9270-9a2c-4e57-8f69-d61250f18dbf')\"\n",
              "              title=\"Convert this dataframe to an interactive table.\"\n",
              "              style=\"display:none;\">\n",
              "        \n",
              "  <svg xmlns=\"http://www.w3.org/2000/svg\" height=\"24px\"viewBox=\"0 0 24 24\"\n",
              "       width=\"24px\">\n",
              "    <path d=\"M0 0h24v24H0V0z\" fill=\"none\"/>\n",
              "    <path d=\"M18.56 5.44l.94 2.06.94-2.06 2.06-.94-2.06-.94-.94-2.06-.94 2.06-2.06.94zm-11 1L8.5 8.5l.94-2.06 2.06-.94-2.06-.94L8.5 2.5l-.94 2.06-2.06.94zm10 10l.94 2.06.94-2.06 2.06-.94-2.06-.94-.94-2.06-.94 2.06-2.06.94z\"/><path d=\"M17.41 7.96l-1.37-1.37c-.4-.4-.92-.59-1.43-.59-.52 0-1.04.2-1.43.59L10.3 9.45l-7.72 7.72c-.78.78-.78 2.05 0 2.83L4 21.41c.39.39.9.59 1.41.59.51 0 1.02-.2 1.41-.59l7.78-7.78 2.81-2.81c.8-.78.8-2.07 0-2.86zM5.41 20L4 18.59l7.72-7.72 1.47 1.35L5.41 20z\"/>\n",
              "  </svg>\n",
              "      </button>\n",
              "      \n",
              "  <style>\n",
              "    .colab-df-container {\n",
              "      display:flex;\n",
              "      flex-wrap:wrap;\n",
              "      gap: 12px;\n",
              "    }\n",
              "\n",
              "    .colab-df-convert {\n",
              "      background-color: #E8F0FE;\n",
              "      border: none;\n",
              "      border-radius: 50%;\n",
              "      cursor: pointer;\n",
              "      display: none;\n",
              "      fill: #1967D2;\n",
              "      height: 32px;\n",
              "      padding: 0 0 0 0;\n",
              "      width: 32px;\n",
              "    }\n",
              "\n",
              "    .colab-df-convert:hover {\n",
              "      background-color: #E2EBFA;\n",
              "      box-shadow: 0px 1px 2px rgba(60, 64, 67, 0.3), 0px 1px 3px 1px rgba(60, 64, 67, 0.15);\n",
              "      fill: #174EA6;\n",
              "    }\n",
              "\n",
              "    [theme=dark] .colab-df-convert {\n",
              "      background-color: #3B4455;\n",
              "      fill: #D2E3FC;\n",
              "    }\n",
              "\n",
              "    [theme=dark] .colab-df-convert:hover {\n",
              "      background-color: #434B5C;\n",
              "      box-shadow: 0px 1px 3px 1px rgba(0, 0, 0, 0.15);\n",
              "      filter: drop-shadow(0px 1px 2px rgba(0, 0, 0, 0.3));\n",
              "      fill: #FFFFFF;\n",
              "    }\n",
              "  </style>\n",
              "\n",
              "      <script>\n",
              "        const buttonEl =\n",
              "          document.querySelector('#df-1c1c9270-9a2c-4e57-8f69-d61250f18dbf button.colab-df-convert');\n",
              "        buttonEl.style.display =\n",
              "          google.colab.kernel.accessAllowed ? 'block' : 'none';\n",
              "\n",
              "        async function convertToInteractive(key) {\n",
              "          const element = document.querySelector('#df-1c1c9270-9a2c-4e57-8f69-d61250f18dbf');\n",
              "          const dataTable =\n",
              "            await google.colab.kernel.invokeFunction('convertToInteractive',\n",
              "                                                     [key], {});\n",
              "          if (!dataTable) return;\n",
              "\n",
              "          const docLinkHtml = 'Like what you see? Visit the ' +\n",
              "            '<a target=\"_blank\" href=https://colab.research.google.com/notebooks/data_table.ipynb>data table notebook</a>'\n",
              "            + ' to learn more about interactive tables.';\n",
              "          element.innerHTML = '';\n",
              "          dataTable['output_type'] = 'display_data';\n",
              "          await google.colab.output.renderOutput(dataTable, element);\n",
              "          const docLink = document.createElement('div');\n",
              "          docLink.innerHTML = docLinkHtml;\n",
              "          element.appendChild(docLink);\n",
              "        }\n",
              "      </script>\n",
              "    </div>\n",
              "  </div>\n",
              "  "
            ]
          },
          "metadata": {},
          "execution_count": 10
        }
      ]
    },
    {
      "cell_type": "code",
      "source": [
        "populacaoParaiba = 4039277\n",
        "# taxaInfeccaoParaibaCalculo = ((paraibaDataSet.totalCases[14] - paraibaDataSet.totalCases[0])/ populacaoParaiba) * 100000\n",
        "taxaInfeccaoParaibaCalculo = 2.47\n",
        "taxaInfeccaoParaibaCalculo"
      ],
      "metadata": {
        "colab": {
          "base_uri": "https://localhost:8080/"
        },
        "id": "IV7RHRhF_sGr",
        "outputId": "0fc6e6f3-28da-4f0b-8243-d0c1162b641b"
      },
      "execution_count": 11,
      "outputs": [
        {
          "output_type": "execute_result",
          "data": {
            "text/plain": [
              "2.47"
            ]
          },
          "metadata": {},
          "execution_count": 11
        }
      ]
    },
    {
      "cell_type": "markdown",
      "source": [
        "Modelo SIR para os Dados da Paraíba"
      ],
      "metadata": {
        "id": "vzYpVPRmBSOu"
      }
    },
    {
      "cell_type": "code",
      "source": [
        "I0_Paraiba = 1 # # Número Inicial de Indivíduos Infectados na Paraiba\n",
        "\n",
        "R0_Paraiba = 0 # Número Inicial de Indivíduos Recuperados na Paraiba\n",
        "\n",
        "S0_Paraiba = populacaoParaiba - I0_Paraiba - R0_Paraiba # S0 = Suscetíveis à infecção inicialmente\n",
        "\n",
        "taxaInfeccaoParaiba = taxaInfeccaoParaibaCalculo # Taxa de contato/infecção (beta)\n",
        "\n",
        "dias = 15\n",
        "gama_Paraiba = 1/dias # Taxa média de recuperação (gama) = 1/dias\n",
        "\n",
        "tempo_Paraiba = np.linspace(0, 40, 40)"
      ],
      "metadata": {
        "id": "24q0ODd6AjvY"
      },
      "execution_count": 12,
      "outputs": []
    },
    {
      "cell_type": "code",
      "source": [
        "def equacoesSIR(y_Paraiba, tempo_Paraiba, populacaoParaiba, taxaInfeccaoParaiba, gama_Paraiba):\n",
        "    S_Paraiba, I_Paraiba, R_Paraiba = y_Paraiba\n",
        "    dSdt_Paraiba = -taxaInfeccaoParaiba * S_Paraiba * I_Paraiba / populacaoParaiba\n",
        "    dIdt_Paraiba = taxaInfeccaoParaiba * S_Paraiba * I_Paraiba / populacaoParaiba - gama_Paraiba * I_Paraiba\n",
        "    dRdt_Paraiba = gama_Paraiba * I_Paraiba\n",
        "    return dSdt_Paraiba, dIdt_Paraiba, dRdt_Paraiba\n",
        "\n",
        "y0Paraiba = S0_Paraiba, I0_Paraiba, R0_Paraiba\n",
        "\n",
        "i_Paraiba = odeint(equacoesSIR, y0Paraiba, tempo_Paraiba, args=(populacaoParaiba, taxaInfeccaoParaiba, gama_Paraiba))\n",
        "S_Paraiba, I_Paraiba, R_Paraiba = i_Paraiba.T"
      ],
      "metadata": {
        "id": "2m6c1lGjAjss"
      },
      "execution_count": 13,
      "outputs": []
    },
    {
      "cell_type": "code",
      "source": [
        "fig = plt.figure(figsize=(10, 4),facecolor='w')\n",
        "ax = fig.add_subplot(111, facecolor='#bad0f7', axisbelow=True)\n",
        "ax.plot(tempo_Paraiba, S_Paraiba/100000, 'b', alpha=0.9, lw=2, label='Suscetíveis')\n",
        "ax.plot(tempo_Paraiba, I_Paraiba/100000, 'r', alpha=0.9, lw=2, label='Infectados')\n",
        "ax.plot(tempo_Paraiba, R_Paraiba/100000, 'g', alpha=0.9, lw=2, label='Recuperados')\n",
        "ax.set_xlabel('Tempo (dias)')\n",
        "ax.set_ylabel('Número População (100000)')\n",
        "ax.set_ylim(0,4.2)\n",
        "ax.yaxis.set_tick_params(length=0)\n",
        "ax.xaxis.set_tick_params(length=0)\n",
        "ax.grid(b=True, which='major', c='w', lw=2, ls='-')\n",
        "plt.axis(xmin=-1, xmax=40, ymin=-1, ymax=60)\n",
        "legend = ax.legend()\n",
        "legend.get_frame().set_alpha(0.5)\n",
        "for spine in ('top', 'right', 'bottom', 'left'):\n",
        "    ax.spines[spine].set_visible(False)\n",
        "plt.show()"
      ],
      "metadata": {
        "colab": {
          "base_uri": "https://localhost:8080/",
          "height": 280
        },
        "id": "YwRlsmDkB8H4",
        "outputId": "8378e460-2b34-472e-f160-2e16f09823de"
      },
      "execution_count": 14,
      "outputs": [
        {
          "output_type": "display_data",
          "data": {
            "text/plain": [
              "<Figure size 720x288 with 1 Axes>"
            ],
            "image/png": "[encoded data removed]"
          },
          "metadata": {}
        }
      ]
    },
    {
      "cell_type": "markdown",
      "source": [
        "# Análise dos Dados de Campina Grande "
      ],
      "metadata": {
        "id": "e5k3wonETHLp"
      }
    },
    {
      "cell_type": "markdown",
      "source": [
        "Calculo para Taxa de Infecção/Transmissão para Campina Grande"
      ],
      "metadata": {
        "id": "VmVV-9_lCwSd"
      }
    },
    {
      "cell_type": "code",
      "source": [
        "file_path = \"./dataset_CampinaGrande_casos_acumulados_usable.csv\"\n",
        "campinaGrandeDataSet = pd.read_csv(file_path, encoding='latin1')\n",
        "campinaGrandeDataSet.head()"
      ],
      "metadata": {
        "colab": {
          "base_uri": "https://localhost:8080/",
          "height": 206
        },
        "id": "sQRTMsiNQaYV",
        "outputId": "1fbe93b5-d38d-4ae8-c877-f19bb30aa4cc"
      },
      "execution_count": 15,
      "outputs": [
        {
          "output_type": "execute_result",
          "data": {
            "text/plain": [
              "         Data  cum_casos\n",
              "0  22/03/2020         25\n",
              "1  23/03/2020         26\n",
              "2  26/03/2020         27\n",
              "3  27/03/2020         28\n",
              "4  03/04/2020         29"
            ],
            "text/html": [
              "\n",
              "  <div id=\"df-4a9f8940-b6df-4deb-a27b-1db39ae52d80\">\n",
              "    <div class=\"colab-df-container\">\n",
              "      <div>\n",
              "<style scoped>\n",
              "    .dataframe tbody tr th:only-of-type {\n",
              "        vertical-align: middle;\n",
              "    }\n",
              "\n",
              "    .dataframe tbody tr th {\n",
              "        vertical-align: top;\n",
              "    }\n",
              "\n",
              "    .dataframe thead th {\n",
              "        text-align: right;\n",
              "    }\n",
              "</style>\n",
              "<table border=\"1\" class=\"dataframe\">\n",
              "  <thead>\n",
              "    <tr style=\"text-align: right;\">\n",
              "      <th></th>\n",
              "      <th>Data</th>\n",
              "      <th>cum_casos</th>\n",
              "    </tr>\n",
              "  </thead>\n",
              "  <tbody>\n",
              "    <tr>\n",
              "      <th>0</th>\n",
              "      <td>22/03/2020</td>\n",
              "      <td>25</td>\n",
              "    </tr>\n",
              "    <tr>\n",
              "      <th>1</th>\n",
              "      <td>23/03/2020</td>\n",
              "      <td>26</td>\n",
              "    </tr>\n",
              "    <tr>\n",
              "      <th>2</th>\n",
              "      <td>26/03/2020</td>\n",
              "      <td>27</td>\n",
              "    </tr>\n",
              "    <tr>\n",
              "      <th>3</th>\n",
              "      <td>27/03/2020</td>\n",
              "      <td>28</td>\n",
              "    </tr>\n",
              "    <tr>\n",
              "      <th>4</th>\n",
              "      <td>03/04/2020</td>\n",
              "      <td>29</td>\n",
              "    </tr>\n",
              "  </tbody>\n",
              "</table>\n",
              "</div>\n",
              "      <button class=\"colab-df-convert\" onclick=\"convertToInteractive('df-4a9f8940-b6df-4deb-a27b-1db39ae52d80')\"\n",
              "              title=\"Convert this dataframe to an interactive table.\"\n",
              "              style=\"display:none;\">\n",
              "        \n",
              "  <svg xmlns=\"http://www.w3.org/2000/svg\" height=\"24px\"viewBox=\"0 0 24 24\"\n",
              "       width=\"24px\">\n",
              "    <path d=\"M0 0h24v24H0V0z\" fill=\"none\"/>\n",
              "    <path d=\"M18.56 5.44l.94 2.06.94-2.06 2.06-.94-2.06-.94-.94-2.06-.94 2.06-2.06.94zm-11 1L8.5 8.5l.94-2.06 2.06-.94-2.06-.94L8.5 2.5l-.94 2.06-2.06.94zm10 10l.94 2.06.94-2.06 2.06-.94-2.06-.94-.94-2.06-.94 2.06-2.06.94z\"/><path d=\"M17.41 7.96l-1.37-1.37c-.4-.4-.92-.59-1.43-.59-.52 0-1.04.2-1.43.59L10.3 9.45l-7.72 7.72c-.78.78-.78 2.05 0 2.83L4 21.41c.39.39.9.59 1.41.59.51 0 1.02-.2 1.41-.59l7.78-7.78 2.81-2.81c.8-.78.8-2.07 0-2.86zM5.41 20L4 18.59l7.72-7.72 1.47 1.35L5.41 20z\"/>\n",
              "  </svg>\n",
              "      </button>\n",
              "      \n",
              "  <style>\n",
              "    .colab-df-container {\n",
              "      display:flex;\n",
              "      flex-wrap:wrap;\n",
              "      gap: 12px;\n",
              "    }\n",
              "\n",
              "    .colab-df-convert {\n",
              "      background-color: #E8F0FE;\n",
              "      border: none;\n",
              "      border-radius: 50%;\n",
              "      cursor: pointer;\n",
              "      display: none;\n",
              "      fill: #1967D2;\n",
              "      height: 32px;\n",
              "      padding: 0 0 0 0;\n",
              "      width: 32px;\n",
              "    }\n",
              "\n",
              "    .colab-df-convert:hover {\n",
              "      background-color: #E2EBFA;\n",
              "      box-shadow: 0px 1px 2px rgba(60, 64, 67, 0.3), 0px 1px 3px 1px rgba(60, 64, 67, 0.15);\n",
              "      fill: #174EA6;\n",
              "    }\n",
              "\n",
              "    [theme=dark] .colab-df-convert {\n",
              "      background-color: #3B4455;\n",
              "      fill: #D2E3FC;\n",
              "    }\n",
              "\n",
              "    [theme=dark] .colab-df-convert:hover {\n",
              "      background-color: #434B5C;\n",
              "      box-shadow: 0px 1px 3px 1px rgba(0, 0, 0, 0.15);\n",
              "      filter: drop-shadow(0px 1px 2px rgba(0, 0, 0, 0.3));\n",
              "      fill: #FFFFFF;\n",
              "    }\n",
              "  </style>\n",
              "\n",
              "      <script>\n",
              "        const buttonEl =\n",
              "          document.querySelector('#df-4a9f8940-b6df-4deb-a27b-1db39ae52d80 button.colab-df-convert');\n",
              "        buttonEl.style.display =\n",
              "          google.colab.kernel.accessAllowed ? 'block' : 'none';\n",
              "\n",
              "        async function convertToInteractive(key) {\n",
              "          const element = document.querySelector('#df-4a9f8940-b6df-4deb-a27b-1db39ae52d80');\n",
              "          const dataTable =\n",
              "            await google.colab.kernel.invokeFunction('convertToInteractive',\n",
              "                                                     [key], {});\n",
              "          if (!dataTable) return;\n",
              "\n",
              "          const docLinkHtml = 'Like what you see? Visit the ' +\n",
              "            '<a target=\"_blank\" href=https://colab.research.google.com/notebooks/data_table.ipynb>data table notebook</a>'\n",
              "            + ' to learn more about interactive tables.';\n",
              "          element.innerHTML = '';\n",
              "          dataTable['output_type'] = 'display_data';\n",
              "          await google.colab.output.renderOutput(dataTable, element);\n",
              "          const docLink = document.createElement('div');\n",
              "          docLink.innerHTML = docLinkHtml;\n",
              "          element.appendChild(docLink);\n",
              "        }\n",
              "      </script>\n",
              "    </div>\n",
              "  </div>\n",
              "  "
            ]
          },
          "metadata": {},
          "execution_count": 15
        }
      ]
    },
    {
      "cell_type": "code",
      "source": [
        "populacaoCampinaGrande = 411807\n",
        "# taxaInfeccaoCampinaGrandeCalculo = ((campinaGrandeDataSet.cum_casos[14] - campinaGrandeDataSet.cum_casos[0])/ populacaoCampinaGrande) * 100000\n",
        "taxaInfeccaoCampinaGrandeCalculo = 2.47\n",
        "taxaInfeccaoCampinaGrandeCalculo"
      ],
      "metadata": {
        "colab": {
          "base_uri": "https://localhost:8080/"
        },
        "id": "XVggd90HDAfj",
        "outputId": "0c219539-14d6-4716-dc82-77ba0ff17ca1"
      },
      "execution_count": 16,
      "outputs": [
        {
          "output_type": "execute_result",
          "data": {
            "text/plain": [
              "2.47"
            ]
          },
          "metadata": {},
          "execution_count": 16
        }
      ]
    },
    {
      "cell_type": "code",
      "source": [
        "I0_CampinaGrande = 1 # # Número Inicial de Indivíduos Infectados de CampinaGrande\n",
        "\n",
        "R0_CampinaGrande = 0 # Número Inicial de Indivíduos Recuperados de CampinaGrande\n",
        "\n",
        "S0_CampinaGrande = populacaoCampinaGrande - I0_CampinaGrande - R0_CampinaGrande # S0 = Suscetíveis à infecção inicialmente\n",
        "\n",
        "taxaInfeccaoCampinaGrande = taxaInfeccaoCampinaGrandeCalculo # Taxa de contato/infecção (beta)\n",
        "\n",
        "dias = 15\n",
        "gama_CampinaGrande = 1/dias # Taxa média de recuperação (gama) = 1/dias\n",
        "\n",
        "tempo_CampinaGrande = np.linspace(0, 40, 40)"
      ],
      "metadata": {
        "id": "m7VW3NSPEf1l"
      },
      "execution_count": 17,
      "outputs": []
    },
    {
      "cell_type": "code",
      "source": [
        "def equacoesSIR(y_CampinaGrande, tempo_CampinaGrande, populacaoCampinaGrande, taxaInfeccaoCampinaGrande, gama_CampinaGrande):\n",
        "    S_CampinaGrande, I_CampinaGrande, R_CampinaGrande = y_CampinaGrande\n",
        "    dSdt_CampinaGrande = -taxaInfeccaoCampinaGrande * S_CampinaGrande * I_CampinaGrande / populacaoCampinaGrande\n",
        "    dIdt_CampinaGrande = taxaInfeccaoCampinaGrande * S_CampinaGrande * I_CampinaGrande / populacaoCampinaGrande - gama_CampinaGrande * I_CampinaGrande\n",
        "    dRdt_CampinaGrande = gama_CampinaGrande * I_CampinaGrande\n",
        "    return dSdt_CampinaGrande, dIdt_CampinaGrande, dRdt_CampinaGrande\n",
        "\n",
        "y0CampinaGrande = S0_CampinaGrande, I0_CampinaGrande, R0_CampinaGrande\n",
        "\n",
        "i_CampinaGrande = odeint(equacoesSIR, y0CampinaGrande, tempo_CampinaGrande, args=(populacaoCampinaGrande, taxaInfeccaoCampinaGrande, gama_CampinaGrande))\n",
        "S_CampinaGrande, I_CampinaGrande, R_CampinaGrande = i_CampinaGrande.T"
      ],
      "metadata": {
        "id": "N4IrAj5PEoWn"
      },
      "execution_count": 18,
      "outputs": []
    },
    {
      "cell_type": "code",
      "source": [
        "fig = plt.figure(figsize=(10, 4),facecolor='w')\n",
        "ax = fig.add_subplot(111, facecolor='#bad0f7', axisbelow=True)\n",
        "ax.plot(tempo_CampinaGrande, S_CampinaGrande/100000, 'b', alpha=0.9, lw=2, label='Suscetíveis')\n",
        "ax.plot(tempo_CampinaGrande, I_CampinaGrande/100000, 'r', alpha=0.9, lw=2, label='Infectados')\n",
        "ax.plot(tempo_CampinaGrande, R_CampinaGrande/100000, 'g', alpha=0.9, lw=2, label='Recuperados')\n",
        "ax.set_xlabel('Tempo (dias)')\n",
        "ax.set_ylabel('Número População (100000)')\n",
        "ax.set_ylim(0,4.2)\n",
        "ax.yaxis.set_tick_params(length=0)\n",
        "ax.xaxis.set_tick_params(length=0)\n",
        "ax.grid(b=True, which='major', c='w', lw=2, ls='-')\n",
        "plt.axis(xmin=-1, xmax=40, ymin=-1, ymax=6)\n",
        "legend = ax.legend()\n",
        "legend.get_frame().set_alpha(0.5)\n",
        "for spine in ('top', 'right', 'bottom', 'left'):\n",
        "    ax.spines[spine].set_visible(False)\n",
        "plt.show()"
      ],
      "metadata": {
        "colab": {
          "base_uri": "https://localhost:8080/",
          "height": 280
        },
        "id": "N1tagxEfEolW",
        "outputId": "e3b1906b-8533-49f4-fe9c-b98da37b11a4"
      },
      "execution_count": 19,
      "outputs": [
        {
          "output_type": "display_data",
          "data": {
            "text/plain": [
              "<Figure size 720x288 with 1 Axes>"
            ],
            "image/png": "[encoded data removed]"
          },
          "metadata": {}
        }
      ]
    },
    {
      "cell_type": "markdown",
      "source": [
        "# Análise dos Dados dos Bairros\n"
      ],
      "metadata": {
        "id": "bEkybhStTHSA"
      }
    },
    {
      "cell_type": "markdown",
      "source": [
        "Calculo para Taxa de Infecção/Transmissão para o bairro de Bodocongó"
      ],
      "metadata": {
        "id": "s9gvcAs8HE-L"
      }
    },
    {
      "cell_type": "code",
      "source": [
        "populacaoBodocongo = 3938\n",
        "# taxaInfeccaoBodocongoCalculo = ((BodocongoDataSet.cum_casos[14] - BodocongoDataSet.cum_casos[0])/ populacaoBodocongo) * 100000\n",
        "taxaInfeccaoBodocongoCalculo = 2.47\n",
        "taxaInfeccaoBodocongoCalculo"
      ],
      "metadata": {
        "colab": {
          "base_uri": "https://localhost:8080/"
        },
        "id": "HY-AQrIfTcrC",
        "outputId": "61131522-172d-4452-e94a-83d08bb0aede"
      },
      "execution_count": 20,
      "outputs": [
        {
          "output_type": "execute_result",
          "data": {
            "text/plain": [
              "2.47"
            ]
          },
          "metadata": {},
          "execution_count": 20
        }
      ]
    },
    {
      "cell_type": "code",
      "source": [
        "I0_Bodocongo = 1 # # Número Inicial de Indivíduos Infectados de Bodocongo\n",
        "\n",
        "R0_Bodocongo = 0 # Número Inicial de Indivíduos Recuperados de Bodocongo\n",
        "\n",
        "S0_Bodocongo = populacaoBodocongo - I0_Bodocongo - R0_Bodocongo # S0 = Suscetíveis à infecção inicialmente\n",
        "\n",
        "taxaInfeccaoBodocongo = taxaInfeccaoBodocongoCalculo # Taxa de contato/infecção (beta)\n",
        "\n",
        "dias = 15\n",
        "gama_Bodocongo = 1/dias # Taxa média de recuperação (gama) = 1/dias\n",
        "\n",
        "tempo_Bodocongo = np.linspace(0, 40, 40)"
      ],
      "metadata": {
        "id": "ZlgY1uhGHPyz"
      },
      "execution_count": 21,
      "outputs": []
    },
    {
      "cell_type": "code",
      "source": [
        "def equacoesSIR(y_Bodocongo, tempo_Bodocongo, populacaoBodocongo, taxaInfeccaoBodocongo, gama_Bodocongo):\n",
        "    S_Bodocongo, I_Bodocongo, R_Bodocongo = y_Bodocongo\n",
        "    dSdt_Bodocongo = -taxaInfeccaoBodocongo * S_Bodocongo * I_Bodocongo / populacaoBodocongo\n",
        "    dIdt_Bodocongo = taxaInfeccaoBodocongo * S_Bodocongo * I_Bodocongo / populacaoBodocongo - gama_Bodocongo * I_Bodocongo\n",
        "    dRdt_Bodocongo = gama_Bodocongo * I_Bodocongo\n",
        "    return dSdt_Bodocongo, dIdt_Bodocongo, dRdt_Bodocongo\n",
        "\n",
        "y0Bodocongo = S0_Bodocongo, I0_Bodocongo, R0_Bodocongo\n",
        "\n",
        "i_Bodocongo = odeint(equacoesSIR, y0Bodocongo, tempo_Bodocongo, args=(populacaoBodocongo, taxaInfeccaoBodocongo, gama_Bodocongo))\n",
        "S_Bodocongo, I_Bodocongo, R_Bodocongo = i_Bodocongo.T"
      ],
      "metadata": {
        "id": "x6c4YUTcdRga"
      },
      "execution_count": 22,
      "outputs": []
    },
    {
      "cell_type": "code",
      "source": [
        "fig = plt.figure(figsize=(10, 4),facecolor='w')\n",
        "ax = fig.add_subplot(111, facecolor='#bad0f7', axisbelow=True)\n",
        "ax.plot(tempo_Bodocongo, S_Bodocongo/1000, 'b', alpha=0.9, lw=2, label='Suscetíveis')\n",
        "ax.plot(tempo_Bodocongo, I_Bodocongo/1000, 'r', alpha=0.9, lw=2, label='Infectados')\n",
        "ax.plot(tempo_Bodocongo, R_Bodocongo/1000, 'g', alpha=0.9, lw=2, label='Recuperados')\n",
        "ax.set_xlabel('Tempo (dias)')\n",
        "ax.set_ylabel('Número População (1000)')\n",
        "ax.set_ylim(0,4.2)\n",
        "ax.yaxis.set_tick_params(length=0)\n",
        "ax.xaxis.set_tick_params(length=0)\n",
        "ax.grid(b=True, which='major', c='w', lw=2, ls='-')\n",
        "plt.axis(xmin=-1, xmax=40, ymin=-1, ymax=6)\n",
        "legend = ax.legend()\n",
        "legend.get_frame().set_alpha(0.5)\n",
        "for spine in ('top', 'right', 'bottom', 'left'):\n",
        "    ax.spines[spine].set_visible(False)\n",
        "plt.show()"
      ],
      "metadata": {
        "colab": {
          "base_uri": "https://localhost:8080/",
          "height": 280
        },
        "id": "C6U3VWCQdRjI",
        "outputId": "135c1671-c605-4aae-cade-284cd52b3bb4"
      },
      "execution_count": 24,
      "outputs": [
        {
          "output_type": "display_data",
          "data": {
            "text/plain": [
              "<Figure size 720x288 with 1 Axes>"
            ],
            "image/png": "[encoded data removed]"
          },
          "metadata": {}
        }
      ]
    },
    {
      "cell_type": "markdown",
      "source": [
        "Calculo para Taxa de Infecção/Transmissão para o bairro do Catolé"
      ],
      "metadata": {
        "id": "UKvaqd4yHJq7"
      }
    },
    {
      "cell_type": "code",
      "source": [
        "populacaoCatole = 5896\n",
        "# taxaInfeccaoCatoleCalculo = ((CatoleDataSet.cum_casos[14] - CatoleDataSet.cum_casos[0])/ populacaoCatole) * 100000\n",
        "taxaInfeccaoCatoleCalculo = 2.47\n",
        "taxaInfeccaoCatoleCalculo"
      ],
      "metadata": {
        "colab": {
          "base_uri": "https://localhost:8080/"
        },
        "id": "RU8u_hTjdRBy",
        "outputId": "b324de1c-6954-487a-dee0-4e7d54558cd2"
      },
      "execution_count": 51,
      "outputs": [
        {
          "output_type": "execute_result",
          "data": {
            "text/plain": [
              "2.47"
            ]
          },
          "metadata": {},
          "execution_count": 51
        }
      ]
    },
    {
      "cell_type": "code",
      "source": [
        "I0_Catole = 1 # # Número Inicial de Indivíduos Infectados de Catole\n",
        "\n",
        "R0_Catole = 0 # Número Inicial de Indivíduos Recuperados de Catole\n",
        "\n",
        "S0_Catole = populacaoCatole - I0_Catole - R0_Catole # S0 = Suscetíveis à infecção inicialmente\n",
        "\n",
        "taxaInfeccaoCatole = taxaInfeccaoCatoleCalculo # Taxa de contato/infecção (beta)\n",
        "\n",
        "dias = 15\n",
        "gama_Catole = 1/dias # Taxa média de recuperação (gama) = 1/dias\n",
        "\n",
        "tempo_Catole = np.linspace(0, 40, 40)"
      ],
      "metadata": {
        "id": "rx_kSAFddRG2"
      },
      "execution_count": 52,
      "outputs": []
    },
    {
      "cell_type": "code",
      "source": [
        "def equacoesSIR(y_Catole, tempo_Catole, populacaoCatole, taxaInfeccaoCatole, gama_Catole):\n",
        "    S_Catole, I_Catole, R_Catole = y_Catole\n",
        "    dSdt_Catole = -taxaInfeccaoCatole * S_Catole * I_Catole / populacaoCatole\n",
        "    dIdt_Catole = taxaInfeccaoCatole * S_Catole * I_Catole / populacaoCatole - gama_Catole * I_Catole\n",
        "    dRdt_Catole = gama_Catole * I_Catole\n",
        "    return dSdt_Catole, dIdt_Catole, dRdt_Catole\n",
        "\n",
        "y0Catole = S0_Catole, I0_Catole, R0_Catole\n",
        "\n",
        "i_Catole = odeint(equacoesSIR, y0Catole, tempo_Catole, args=(populacaoCatole, taxaInfeccaoCatole, gama_Catole))\n",
        "S_Catole, I_Catole, R_Catole = i_Catole.T"
      ],
      "metadata": {
        "id": "OE6QdXY_m-XT"
      },
      "execution_count": 53,
      "outputs": []
    },
    {
      "cell_type": "code",
      "source": [
        "fig = plt.figure(figsize=(10, 4),facecolor='w')\n",
        "ax = fig.add_subplot(111, facecolor='#bad0f7', axisbelow=True)\n",
        "ax.plot(tempo_Catole, S_Catole/1000, 'b', alpha=0.9, lw=2, label='Suscetíveis')\n",
        "ax.plot(tempo_Catole, I_Catole/1000, 'r', alpha=0.9, lw=2, label='Infectados')\n",
        "ax.plot(tempo_Catole, R_Catole/1000, 'g', alpha=0.9, lw=2, label='Recuperados')\n",
        "ax.set_xlabel('Tempo (dias)')\n",
        "ax.set_ylabel('Número População (1000)')\n",
        "ax.set_ylim(0,4.2)\n",
        "ax.yaxis.set_tick_params(length=0)\n",
        "ax.xaxis.set_tick_params(length=0)\n",
        "ax.grid(b=True, which='major', c='w', lw=2, ls='-')\n",
        "plt.axis(xmin=-1, xmax=40, ymin=-1, ymax=8)\n",
        "legend = ax.legend()\n",
        "legend.get_frame().set_alpha(0.5)\n",
        "for spine in ('top', 'right', 'bottom', 'left'):\n",
        "    ax.spines[spine].set_visible(False)\n",
        "plt.show()"
      ],
      "metadata": {
        "colab": {
          "base_uri": "https://localhost:8080/",
          "height": 280
        },
        "id": "q63f0yZAm-ar",
        "outputId": "e1cd2993-9889-462a-8904-1f6c4f05e842"
      },
      "execution_count": 56,
      "outputs": [
        {
          "output_type": "display_data",
          "data": {
            "text/plain": [
              "<Figure size 720x288 with 1 Axes>"
            ],
            "image/png": "[encoded data removed]"
          },
          "metadata": {}
        }
      ]
    },
    {
      "cell_type": "markdown",
      "source": [
        "Calculo para Taxa de Infecção/Transmissão para o bairro das Malvinas"
      ],
      "metadata": {
        "id": "fyY5XGTKHMUP"
      }
    },
    {
      "cell_type": "code",
      "source": [
        "populacaoMalvinas = 10909\n",
        "# taxaInfeccaoMalvinasCalculo = ((MalvinasDataSet.cum_casos[14] - MalvinasDataSet.cum_casos[0])/ populacaoMalvinas) * 100000\n",
        "taxaInfeccaoMalvinasCalculo = 2.47\n",
        "taxaInfeccaoMalvinasCalculo"
      ],
      "metadata": {
        "colab": {
          "base_uri": "https://localhost:8080/"
        },
        "id": "p28m63ktHPBA",
        "outputId": "c937fb8b-7616-4b4d-eed0-78c86f124b20"
      },
      "execution_count": 58,
      "outputs": [
        {
          "output_type": "execute_result",
          "data": {
            "text/plain": [
              "2.47"
            ]
          },
          "metadata": {},
          "execution_count": 58
        }
      ]
    },
    {
      "cell_type": "code",
      "source": [
        "I0_Malvinas = 1 # # Número Inicial de Indivíduos Infectados de Malvinas\n",
        "\n",
        "R0_Malvinas = 0 # Número Inicial de Indivíduos Recuperados de Malvinas\n",
        "\n",
        "S0_Malvinas = populacaoMalvinas - I0_Malvinas - R0_Malvinas # S0 = Suscetíveis à infecção inicialmente\n",
        "\n",
        "taxaInfeccaoMalvinas = taxaInfeccaoMalvinasCalculo # Taxa de contato/infecção (beta)\n",
        "\n",
        "dias = 15\n",
        "gama_Malvinas = 1/dias # Taxa média de recuperação (gama) = 1/dias\n",
        "\n",
        "tempo_Malvinas = np.linspace(0, 40, 40)"
      ],
      "metadata": {
        "id": "VuHf41GtoDH6"
      },
      "execution_count": 59,
      "outputs": []
    },
    {
      "cell_type": "code",
      "source": [
        "def equacoesSIR(y_Malvinas, tempo_Malvinas, populacaoMalvinas, taxaInfeccaoMalvinas, gama_Malvinas):\n",
        "    S_Malvinas, I_Malvinas, R_Malvinas = y_Malvinas\n",
        "    dSdt_Malvinas = -taxaInfeccaoMalvinas * S_Malvinas * I_Malvinas / populacaoMalvinas\n",
        "    dIdt_Malvinas = taxaInfeccaoMalvinas * S_Malvinas * I_Malvinas / populacaoMalvinas - gama_Malvinas * I_Malvinas\n",
        "    dRdt_Malvinas = gama_Malvinas * I_Malvinas\n",
        "    return dSdt_Malvinas, dIdt_Malvinas, dRdt_Malvinas\n",
        "\n",
        "y0Malvinas = S0_Malvinas, I0_Malvinas, R0_Malvinas\n",
        "\n",
        "i_Malvinas = odeint(equacoesSIR, y0Malvinas, tempo_Malvinas, args=(populacaoMalvinas, taxaInfeccaoMalvinas, gama_Malvinas))\n",
        "S_Malvinas, I_Malvinas, R_Malvinas = i_Malvinas.T"
      ],
      "metadata": {
        "id": "ds3DSzwcoDPw"
      },
      "execution_count": 60,
      "outputs": []
    },
    {
      "cell_type": "code",
      "source": [
        "fig = plt.figure(figsize=(10, 4),facecolor='w')\n",
        "ax = fig.add_subplot(111, facecolor='#bad0f7', axisbelow=True)\n",
        "ax.plot(tempo_Malvinas, S_Malvinas/1000, 'b', alpha=0.9, lw=2, label='Suscetíveis')\n",
        "ax.plot(tempo_Malvinas, I_Malvinas/1000, 'r', alpha=0.9, lw=2, label='Infectados')\n",
        "ax.plot(tempo_Malvinas, R_Malvinas/1000, 'g', alpha=0.9, lw=2, label='Recuperados')\n",
        "ax.set_xlabel('Tempo (dias)')\n",
        "ax.set_ylabel('Número População (1000)')\n",
        "ax.set_ylim(0,4.2)\n",
        "ax.yaxis.set_tick_params(length=0)\n",
        "ax.xaxis.set_tick_params(length=0)\n",
        "ax.grid(b=True, which='major', c='w', lw=2, ls='-')\n",
        "plt.axis(xmin=-1, xmax=40, ymin=-1, ymax=12)\n",
        "legend = ax.legend()\n",
        "legend.get_frame().set_alpha(0.5)\n",
        "for spine in ('top', 'right', 'bottom', 'left'):\n",
        "    ax.spines[spine].set_visible(False)\n",
        "plt.show()"
      ],
      "metadata": {
        "colab": {
          "base_uri": "https://localhost:8080/",
          "height": 280
        },
        "id": "F50jVf8hoDUG",
        "outputId": "6e91bbe7-6549-4c1c-bd3c-e33d042c9489"
      },
      "execution_count": 62,
      "outputs": [
        {
          "output_type": "display_data",
          "data": {
            "text/plain": [
              "<Figure size 720x288 with 1 Axes>"
            ],
            "image/png": "[encoded data removed]"
          },
          "metadata": {}
        }
      ]
    }
  ]
}