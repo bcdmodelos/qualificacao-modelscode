{
  "nbformat": 4,
  "nbformat_minor": 0,
  "metadata": {
    "colab": {
      "provenance": [],
      "collapsed_sections": [
        "S3cb89natQv-"
      ],
      "authorship_tag": "ABX9TyNQg/ZOQf3DNQm4xSH0JcHE",
      "include_colab_link": true
    },
    "kernelspec": {
      "name": "python3",
      "display_name": "Python 3"
    },
    "language_info": {
      "name": "python"
    }
  },
  "cells": [
    {
      "cell_type": "markdown",
      "metadata": {
        "id": "view-in-github",
        "colab_type": "text"
      },
      "source": [
        "<a href=\"https://colab.research.google.com/github/bcdmodelos/qualificacao-modelscode/blob/main/Modelo-Compartimental/codigo_modelo_SIS.ipynb\" target=\"_parent\"><img src=\"https://colab.research.google.com/assets/colab-badge.svg\" alt=\"Open In Colab\"/></a>"
      ]
    },
    {
      "cell_type": "markdown",
      "source": [
        "# SIS (Susceptível - Infectado - Recuperado)"
      ],
      "metadata": {
        "id": "S3cb89natQv-"
      }
    },
    {
      "cell_type": "code",
      "execution_count": 1,
      "metadata": {
        "id": "1xdl3LZZtNNU"
      },
      "outputs": [],
      "source": [
        "import pandas as pd\n",
        "import numpy as np\n",
        "from scipy.integrate import odeint\n",
        "import matplotlib.pyplot as plt"
      ]
    },
    {
      "cell_type": "code",
      "source": [
        "from google.colab import drive\n",
        "drive.mount('/content/drive')"
      ],
      "metadata": {
        "colab": {
          "base_uri": "https://localhost:8080/"
        },
        "id": "A2HjfmBDxnlf",
        "outputId": "31678886-15e7-427f-8be0-b06fe09d0c15"
      },
      "execution_count": 2,
      "outputs": [
        {
          "output_type": "stream",
          "name": "stdout",
          "text": [
            "Mounted at /content/drive\n"
          ]
        }
      ]
    },
    {
      "cell_type": "code",
      "source": [
        "!ls"
      ],
      "metadata": {
        "colab": {
          "base_uri": "https://localhost:8080/"
        },
        "id": "bUz2fyIqxp51",
        "outputId": "26d48d5a-0b3b-43b6-f8c1-23a0ddf38a8e"
      },
      "execution_count": 3,
      "outputs": [
        {
          "output_type": "stream",
          "name": "stdout",
          "text": [
            "drive  sample_data\n"
          ]
        }
      ]
    },
    {
      "cell_type": "code",
      "source": [
        "%cd /content/drive/MyDrive/Notebooks_Doutorado/base-campina/\n",
        "\n",
        "!ls"
      ],
      "metadata": {
        "colab": {
          "base_uri": "https://localhost:8080/"
        },
        "id": "1OXOCv7UxxCw",
        "outputId": "72fd3861-8eaa-4d0a-b495-a2413cf693f1"
      },
      "execution_count": 4,
      "outputs": [
        {
          "output_type": "stream",
          "name": "stdout",
          "text": [
            "/content/drive/MyDrive/Notebooks_Doutorado/base-campina\n",
            "dataset_Amazonas_usableData.csv\n",
            "dataset_Bodocongo_usable.csv\n",
            "dataset_Brasil_usableData.csv\n",
            "dataset_CampinaGrande_casos_acumulados_usable.csv\n",
            "dataset_CampinaGrande_casos_diarios_usable.csv\n",
            "dataset_CampinaGrande_usableData.csv\n",
            "dataset_Catole_usable.csv\n",
            "dataset_Malvinas_usable.csv\n",
            "dataset_Paraiba_usableData.csv\n",
            "dataset_Pernambuco_usableData.csv\n"
          ]
        }
      ]
    },
    {
      "cell_type": "code",
      "source": [],
      "metadata": {
        "id": "NnyRcsFTxxJh"
      },
      "execution_count": null,
      "outputs": []
    },
    {
      "cell_type": "markdown",
      "source": [
        "# Análise do Dados do Brasil"
      ],
      "metadata": {
        "id": "lXwb1A4Dt-Yy"
      }
    },
    {
      "cell_type": "markdown",
      "source": [
        "Calculo para Taxa de Infecção/Transmissão para o Brasil"
      ],
      "metadata": {
        "id": "djonHWGquFOn"
      }
    },
    {
      "cell_type": "code",
      "source": [
        "file_path = \"./dataset_Brasil_usableData.csv\"\n",
        "brasilDataSet = pd.read_csv(file_path, encoding='latin1')\n",
        "brasilDataSet.head()"
      ],
      "metadata": {
        "colab": {
          "base_uri": "https://localhost:8080/",
          "height": 206
        },
        "id": "0Tlb47RkuCAe",
        "outputId": "62e38896-d32c-48d3-a895-b2e133a89a23"
      },
      "execution_count": 5,
      "outputs": [
        {
          "output_type": "execute_result",
          "data": {
            "text/plain": [
              "   Unnamed: 0        date  totalCases  deaths  suspects  recovered  tests  \\\n",
              "0         293  2020-03-22        1594      25       NaN        NaN    NaN   \n",
              "1         321  2020-03-23        1952      34   15867.0        8.0    NaN   \n",
              "2         349  2020-03-24        2255      47   17700.0       20.0    NaN   \n",
              "3         377  2020-03-25        2566      59   27227.0       27.0    NaN   \n",
              "4         405  2020-03-26        2990      77   50012.0       42.0    NaN   \n",
              "\n",
              "   vaccinated  vaccinated_second  activeCases  newVaccinated  \\\n",
              "0         NaN                NaN          NaN            NaN   \n",
              "1         NaN                NaN       1910.0            NaN   \n",
              "2         NaN                NaN       2188.0            NaN   \n",
              "3         NaN                NaN       2480.0            NaN   \n",
              "4         NaN                NaN       2871.0            NaN   \n",
              "\n",
              "   newVaccinated_second  \n",
              "0                   NaN  \n",
              "1                   NaN  \n",
              "2                   NaN  \n",
              "3                   NaN  \n",
              "4                   NaN  "
            ],
            "text/html": [
              "\n",
              "  <div id=\"df-00d8df57-6459-4b84-88ab-3c2e1a9af817\">\n",
              "    <div class=\"colab-df-container\">\n",
              "      <div>\n",
              "<style scoped>\n",
              "    .dataframe tbody tr th:only-of-type {\n",
              "        vertical-align: middle;\n",
              "    }\n",
              "\n",
              "    .dataframe tbody tr th {\n",
              "        vertical-align: top;\n",
              "    }\n",
              "\n",
              "    .dataframe thead th {\n",
              "        text-align: right;\n",
              "    }\n",
              "</style>\n",
              "<table border=\"1\" class=\"dataframe\">\n",
              "  <thead>\n",
              "    <tr style=\"text-align: right;\">\n",
              "      <th></th>\n",
              "      <th>Unnamed: 0</th>\n",
              "      <th>date</th>\n",
              "      <th>totalCases</th>\n",
              "      <th>deaths</th>\n",
              "      <th>suspects</th>\n",
              "      <th>recovered</th>\n",
              "      <th>tests</th>\n",
              "      <th>vaccinated</th>\n",
              "      <th>vaccinated_second</th>\n",
              "      <th>activeCases</th>\n",
              "      <th>newVaccinated</th>\n",
              "      <th>newVaccinated_second</th>\n",
              "    </tr>\n",
              "  </thead>\n",
              "  <tbody>\n",
              "    <tr>\n",
              "      <th>0</th>\n",
              "      <td>293</td>\n",
              "      <td>2020-03-22</td>\n",
              "      <td>1594</td>\n",
              "      <td>25</td>\n",
              "      <td>NaN</td>\n",
              "      <td>NaN</td>\n",
              "      <td>NaN</td>\n",
              "      <td>NaN</td>\n",
              "      <td>NaN</td>\n",
              "      <td>NaN</td>\n",
              "      <td>NaN</td>\n",
              "      <td>NaN</td>\n",
              "    </tr>\n",
              "    <tr>\n",
              "      <th>1</th>\n",
              "      <td>321</td>\n",
              "      <td>2020-03-23</td>\n",
              "      <td>1952</td>\n",
              "      <td>34</td>\n",
              "      <td>15867.0</td>\n",
              "      <td>8.0</td>\n",
              "      <td>NaN</td>\n",
              "      <td>NaN</td>\n",
              "      <td>NaN</td>\n",
              "      <td>1910.0</td>\n",
              "      <td>NaN</td>\n",
              "      <td>NaN</td>\n",
              "    </tr>\n",
              "    <tr>\n",
              "      <th>2</th>\n",
              "      <td>349</td>\n",
              "      <td>2020-03-24</td>\n",
              "      <td>2255</td>\n",
              "      <td>47</td>\n",
              "      <td>17700.0</td>\n",
              "      <td>20.0</td>\n",
              "      <td>NaN</td>\n",
              "      <td>NaN</td>\n",
              "      <td>NaN</td>\n",
              "      <td>2188.0</td>\n",
              "      <td>NaN</td>\n",
              "      <td>NaN</td>\n",
              "    </tr>\n",
              "    <tr>\n",
              "      <th>3</th>\n",
              "      <td>377</td>\n",
              "      <td>2020-03-25</td>\n",
              "      <td>2566</td>\n",
              "      <td>59</td>\n",
              "      <td>27227.0</td>\n",
              "      <td>27.0</td>\n",
              "      <td>NaN</td>\n",
              "      <td>NaN</td>\n",
              "      <td>NaN</td>\n",
              "      <td>2480.0</td>\n",
              "      <td>NaN</td>\n",
              "      <td>NaN</td>\n",
              "    </tr>\n",
              "    <tr>\n",
              "      <th>4</th>\n",
              "      <td>405</td>\n",
              "      <td>2020-03-26</td>\n",
              "      <td>2990</td>\n",
              "      <td>77</td>\n",
              "      <td>50012.0</td>\n",
              "      <td>42.0</td>\n",
              "      <td>NaN</td>\n",
              "      <td>NaN</td>\n",
              "      <td>NaN</td>\n",
              "      <td>2871.0</td>\n",
              "      <td>NaN</td>\n",
              "      <td>NaN</td>\n",
              "    </tr>\n",
              "  </tbody>\n",
              "</table>\n",
              "</div>\n",
              "      <button class=\"colab-df-convert\" onclick=\"convertToInteractive('df-00d8df57-6459-4b84-88ab-3c2e1a9af817')\"\n",
              "              title=\"Convert this dataframe to an interactive table.\"\n",
              "              style=\"display:none;\">\n",
              "        \n",
              "  <svg xmlns=\"http://www.w3.org/2000/svg\" height=\"24px\"viewBox=\"0 0 24 24\"\n",
              "       width=\"24px\">\n",
              "    <path d=\"M0 0h24v24H0V0z\" fill=\"none\"/>\n",
              "    <path d=\"M18.56 5.44l.94 2.06.94-2.06 2.06-.94-2.06-.94-.94-2.06-.94 2.06-2.06.94zm-11 1L8.5 8.5l.94-2.06 2.06-.94-2.06-.94L8.5 2.5l-.94 2.06-2.06.94zm10 10l.94 2.06.94-2.06 2.06-.94-2.06-.94-.94-2.06-.94 2.06-2.06.94z\"/><path d=\"M17.41 7.96l-1.37-1.37c-.4-.4-.92-.59-1.43-.59-.52 0-1.04.2-1.43.59L10.3 9.45l-7.72 7.72c-.78.78-.78 2.05 0 2.83L4 21.41c.39.39.9.59 1.41.59.51 0 1.02-.2 1.41-.59l7.78-7.78 2.81-2.81c.8-.78.8-2.07 0-2.86zM5.41 20L4 18.59l7.72-7.72 1.47 1.35L5.41 20z\"/>\n",
              "  </svg>\n",
              "      </button>\n",
              "      \n",
              "  <style>\n",
              "    .colab-df-container {\n",
              "      display:flex;\n",
              "      flex-wrap:wrap;\n",
              "      gap: 12px;\n",
              "    }\n",
              "\n",
              "    .colab-df-convert {\n",
              "      background-color: #E8F0FE;\n",
              "      border: none;\n",
              "      border-radius: 50%;\n",
              "      cursor: pointer;\n",
              "      display: none;\n",
              "      fill: #1967D2;\n",
              "      height: 32px;\n",
              "      padding: 0 0 0 0;\n",
              "      width: 32px;\n",
              "    }\n",
              "\n",
              "    .colab-df-convert:hover {\n",
              "      background-color: #E2EBFA;\n",
              "      box-shadow: 0px 1px 2px rgba(60, 64, 67, 0.3), 0px 1px 3px 1px rgba(60, 64, 67, 0.15);\n",
              "      fill: #174EA6;\n",
              "    }\n",
              "\n",
              "    [theme=dark] .colab-df-convert {\n",
              "      background-color: #3B4455;\n",
              "      fill: #D2E3FC;\n",
              "    }\n",
              "\n",
              "    [theme=dark] .colab-df-convert:hover {\n",
              "      background-color: #434B5C;\n",
              "      box-shadow: 0px 1px 3px 1px rgba(0, 0, 0, 0.15);\n",
              "      filter: drop-shadow(0px 1px 2px rgba(0, 0, 0, 0.3));\n",
              "      fill: #FFFFFF;\n",
              "    }\n",
              "  </style>\n",
              "\n",
              "      <script>\n",
              "        const buttonEl =\n",
              "          document.querySelector('#df-00d8df57-6459-4b84-88ab-3c2e1a9af817 button.colab-df-convert');\n",
              "        buttonEl.style.display =\n",
              "          google.colab.kernel.accessAllowed ? 'block' : 'none';\n",
              "\n",
              "        async function convertToInteractive(key) {\n",
              "          const element = document.querySelector('#df-00d8df57-6459-4b84-88ab-3c2e1a9af817');\n",
              "          const dataTable =\n",
              "            await google.colab.kernel.invokeFunction('convertToInteractive',\n",
              "                                                     [key], {});\n",
              "          if (!dataTable) return;\n",
              "\n",
              "          const docLinkHtml = 'Like what you see? Visit the ' +\n",
              "            '<a target=\"_blank\" href=https://colab.research.google.com/notebooks/data_table.ipynb>data table notebook</a>'\n",
              "            + ' to learn more about interactive tables.';\n",
              "          element.innerHTML = '';\n",
              "          dataTable['output_type'] = 'display_data';\n",
              "          await google.colab.output.renderOutput(dataTable, element);\n",
              "          const docLink = document.createElement('div');\n",
              "          docLink.innerHTML = docLinkHtml;\n",
              "          element.appendChild(docLink);\n",
              "        }\n",
              "      </script>\n",
              "    </div>\n",
              "  </div>\n",
              "  "
            ]
          },
          "metadata": {},
          "execution_count": 5
        }
      ]
    },
    {
      "cell_type": "code",
      "source": [
        "# Explicação o calculo para extraí taxa de tramissão\n",
        "\n",
        "# Taxa de transmissão comunitária de COVID-19 em 14 dias: \n",
        "# soma de todos os NOVOS casos de COVID-19 nos últimos 14 dias,\n",
        "# dividido pela população e multiplicado por 100.000 = taxa de casos novos por 100.000 habitantes nos últimos 14 dias.\n",
        "\n",
        "# taxaInfeccaoBrasil = ((totalCases[14] - totalCases[0]) / populacaoBrasil) * 100.000"
      ],
      "metadata": {
        "id": "niAeDpRBx8YU"
      },
      "execution_count": 6,
      "outputs": []
    },
    {
      "cell_type": "code",
      "source": [
        "populacaoBrasil = 212600000\n",
        "#taxaInfeccaoBrasilCalculo = ((brasilDataSet.totalCases[14] - brasilDataSet.totalCases[0])/ populacaoBrasil) * 100000\n",
        "taxaInfeccaoBrasilCalculo = 1.78\n",
        "taxaInfeccaoBrasilCalculo"
      ],
      "metadata": {
        "colab": {
          "base_uri": "https://localhost:8080/"
        },
        "id": "Ig9Pc7aZx8dD",
        "outputId": "5100b10e-613d-40de-8cc6-e7e391256d3b"
      },
      "execution_count": 12,
      "outputs": [
        {
          "output_type": "execute_result",
          "data": {
            "text/plain": [
              "1.78"
            ]
          },
          "metadata": {},
          "execution_count": 12
        }
      ]
    },
    {
      "cell_type": "markdown",
      "source": [
        "Modelo SIS para os Dados do Brasil"
      ],
      "metadata": {
        "id": "-Y_OGJqZvxff"
      }
    },
    {
      "cell_type": "code",
      "source": [
        "I0_Brasil = 1 # # Número Inicial de Indivíduos Infectados no Brasil\n",
        "\n",
        "R0_Brasil = 0 # Número Inicial de Indivíduos Recuperados no Brasil\n",
        "\n",
        "S0_Brasil = populacaoBrasil - I0_Brasil # S0 = Suscetíveis à infecção inicialmente\n",
        "\n",
        "taxaInfeccaoBrasil = taxaInfeccaoBrasilCalculo # Taxa de contato/infecção (beta)\n",
        "\n",
        "dias = 15\n",
        "gama_Brasil = 1/dias # Taxa média de recuperação (gama) = 1/dias\n",
        "\n",
        "tempo_Brasil = np.linspace(0, 40, 40)"
      ],
      "metadata": {
        "id": "i_U84DBmvszp"
      },
      "execution_count": 13,
      "outputs": []
    },
    {
      "cell_type": "code",
      "source": [
        "def equacoesSISs(y_Brasil, tempo_Brasil, populacaoBrasil, taxaInfeccaoBrasil, gama_Brasil):\n",
        "    S_Brasil, I_Brasil= y_Brasil\n",
        "    dSdt_Brasil = -taxaInfeccaoBrasil * S_Brasil * I_Brasil / populacaoBrasil + gama_Brasil * I_Brasil\n",
        "    dIdt_Brasil = taxaInfeccaoBrasil * S_Brasil * I_Brasil / populacaoBrasil - gama_Brasil * I_Brasil\n",
        "    return dSdt_Brasil, dIdt_Brasil\n",
        "\n",
        "# Vetor de condições iniciais\n",
        "y0_Brasil = S0_Brasil, I0_Brasil \n",
        "\n",
        "# Integração das equações SIS no tempo\n",
        "i = odeint(equacoesSISs, y0_Brasil, tempo_Brasil, args=(populacaoBrasil, taxaInfeccaoBrasil, gama_Brasil))\n",
        "S_Brasil, I_Brasil = i.T"
      ],
      "metadata": {
        "id": "O9CnkhD7yPOc"
      },
      "execution_count": 26,
      "outputs": []
    },
    {
      "cell_type": "code",
      "source": [
        "fig = plt.figure(figsize=(10, 4),facecolor='w')\n",
        "ax = fig.add_subplot(111, facecolor='#bad0f7', axisbelow=True)\n",
        "ax.plot(tempo_Brasil, S_Brasil/100000, 'b', alpha=0.9, lw=2, label='Suscetíveis')\n",
        "ax.plot(tempo_Brasil, I_Brasil/100000, 'r', alpha=0.9, lw=2, label='Infectados')\n",
        "ax.set_xlabel('Tempo (dias)')\n",
        "ax.set_ylabel('Número População (100000)')\n",
        "ax.set_ylim(0,4.2)\n",
        "ax.yaxis.set_tick_params(length=0)\n",
        "ax.xaxis.set_tick_params(length=0)\n",
        "ax.grid(b=True, which='major', c='w', lw=2, ls='-')\n",
        "plt.axis(xmin=-1, xmax=40, ymin=-1, ymax=2500)\n",
        "legend = ax.legend()\n",
        "legend.get_frame().set_alpha(0.5)\n",
        "for spine in ('top', 'right', 'bottom', 'left'):\n",
        "    ax.spines[spine].set_visible(False)\n",
        "plt.show()"
      ],
      "metadata": {
        "colab": {
          "base_uri": "https://localhost:8080/",
          "height": 280
        },
        "id": "oU58eQaQyPTN",
        "outputId": "219534ca-4489-4bde-ac35-78fc5f66df2c"
      },
      "execution_count": 27,
      "outputs": [
        {
          "output_type": "display_data",
          "data": {
            "text/plain": [
              "<Figure size 720x288 with 1 Axes>"
            ],
            "image/png": "[encoded data removed]"
          },
          "metadata": {}
        }
      ]
    },
    {
      "cell_type": "markdown",
      "source": [
        "# Análise dos Dados da Paraíba"
      ],
      "metadata": {
        "id": "5xfQ0pWXwGLo"
      }
    },
    {
      "cell_type": "markdown",
      "source": [
        "Modelo SIS para os Dados da Paraíba"
      ],
      "metadata": {
        "id": "Vv7RguBs8AJu"
      }
    },
    {
      "cell_type": "code",
      "source": [
        "populacaoParaiba = 4039277\n",
        "# taxaInfeccaoParaibaCalculo = ((paraibaDataSet.totalCases[14] - paraibaDataSet.totalCases[0])/ populacaoParaiba) * 100000\n",
        "taxaInfeccaoParaibaCalculo = 2.47\n",
        "taxaInfeccaoParaibaCalculo"
      ],
      "metadata": {
        "colab": {
          "base_uri": "https://localhost:8080/"
        },
        "id": "Dmvmrurl7830",
        "outputId": "8dc4abef-f10d-4bd0-8fe3-0c7cfb466a92"
      },
      "execution_count": 28,
      "outputs": [
        {
          "output_type": "execute_result",
          "data": {
            "text/plain": [
              "2.47"
            ]
          },
          "metadata": {},
          "execution_count": 28
        }
      ]
    },
    {
      "cell_type": "code",
      "source": [
        "I0_Paraiba = 1 # # Número Inicial de Indivíduos Infectados no Paraiba\n",
        "\n",
        "R0_Paraiba = 0 # Número Inicial de Indivíduos Recuperados no Paraiba\n",
        "\n",
        "S0_Paraiba = populacaoParaiba - I0_Paraiba # S0 = Suscetíveis à infecção inicialmente\n",
        "\n",
        "taxaInfeccaoParaiba = taxaInfeccaoParaibaCalculo # Taxa de contato/infecção (beta)\n",
        "\n",
        "dias = 15\n",
        "gama_Paraiba = 1/dias # Taxa média de recuperação (gama) = 1/dias\n",
        "\n",
        "tempo_Paraiba = np.linspace(0, 40, 40)"
      ],
      "metadata": {
        "id": "0yXgPgHi8DlG"
      },
      "execution_count": 29,
      "outputs": []
    },
    {
      "cell_type": "code",
      "source": [
        "def equacoesSISs(y_Paraiba, tempo_Paraiba, populacaoParaiba, taxaInfeccaoParaiba, gama_Paraiba):\n",
        "    S_Paraiba, I_Paraiba= y_Paraiba\n",
        "    dSdt_Paraiba = -taxaInfeccaoParaiba * S_Paraiba * I_Paraiba / populacaoParaiba + gama_Paraiba * I_Paraiba\n",
        "    dIdt_Paraiba = taxaInfeccaoParaiba * S_Paraiba * I_Paraiba / populacaoParaiba - gama_Paraiba * I_Paraiba\n",
        "    return dSdt_Paraiba, dIdt_Paraiba\n",
        "\n",
        "# Vetor de condições iniciais\n",
        "y0_Paraiba = S0_Paraiba, I0_Paraiba \n",
        "\n",
        "# Integração das equações SIS no tempo\n",
        "i = odeint(equacoesSISs, y0_Paraiba, tempo_Paraiba, args=(populacaoParaiba, taxaInfeccaoParaiba, gama_Paraiba))\n",
        "S_Paraiba, I_Paraiba = i.T"
      ],
      "metadata": {
        "id": "7nVHd12p8Dz6"
      },
      "execution_count": 30,
      "outputs": []
    },
    {
      "cell_type": "code",
      "source": [
        "fig = plt.figure(figsize=(10, 4),facecolor='w')\n",
        "ax = fig.add_subplot(111, facecolor='#bad0f7', axisbelow=True)\n",
        "ax.plot(tempo_Paraiba, S_Paraiba/100000, 'b', alpha=0.9, lw=2, label='Suscetíveis')\n",
        "ax.plot(tempo_Paraiba, I_Paraiba/100000, 'r', alpha=0.9, lw=2, label='Infectados')\n",
        "ax.set_xlabel('Tempo (dias)')\n",
        "ax.set_ylabel('Número População (100000)')\n",
        "ax.set_ylim(0,4.2)\n",
        "ax.yaxis.set_tick_params(length=0)\n",
        "ax.xaxis.set_tick_params(length=0)\n",
        "ax.grid(b=True, which='major', c='w', lw=2, ls='-')\n",
        "plt.axis(xmin=-1, xmax=40, ymin=-1, ymax=50)\n",
        "legend = ax.legend()\n",
        "legend.get_frame().set_alpha(0.5)\n",
        "for spine in ('top', 'right', 'bottom', 'left'):\n",
        "    ax.spines[spine].set_visible(False)\n",
        "plt.show()"
      ],
      "metadata": {
        "colab": {
          "base_uri": "https://localhost:8080/",
          "height": 280
        },
        "id": "hga3twaH8Pok",
        "outputId": "cabdc812-87a7-4c99-c306-e2cbcafdda41"
      },
      "execution_count": 35,
      "outputs": [
        {
          "output_type": "display_data",
          "data": {
            "text/plain": [
              "<Figure size 720x288 with 1 Axes>"
            ],
            "image/png": "[encoded data removed]"
          },
          "metadata": {}
        }
      ]
    },
    {
      "cell_type": "markdown",
      "source": [
        "# Análise dos Dados de Campina Grande "
      ],
      "metadata": {
        "id": "F_48mArnwRrW"
      }
    },
    {
      "cell_type": "markdown",
      "source": [
        "Modelo SIS para os Dados de Campina Grande"
      ],
      "metadata": {
        "id": "63K0STszwX_6"
      }
    },
    {
      "cell_type": "code",
      "source": [
        "populacaoCampinaGrande = 411807\n",
        "# taxaInfeccaoCampinaGrandeCalculo = ((campinaGrandeDataSet.cum_casos[14] - campinaGrandeDataSet.cum_casos[0])/ populacaoCampinaGrande) * 100000\n",
        "taxaInfeccaoCampinaGrandeCalculo = 2.47\n",
        "taxaInfeccaoCampinaGrandeCalculo"
      ],
      "metadata": {
        "colab": {
          "base_uri": "https://localhost:8080/"
        },
        "id": "rfpdQ_ROwSe8",
        "outputId": "b8af675f-34df-4239-cbeb-7aee174b8ac5"
      },
      "execution_count": 36,
      "outputs": [
        {
          "output_type": "execute_result",
          "data": {
            "text/plain": [
              "2.47"
            ]
          },
          "metadata": {},
          "execution_count": 36
        }
      ]
    },
    {
      "cell_type": "code",
      "source": [
        "I0_CampinaGrande = 1 # # Número Inicial de Indivíduos Infectados no CampinaGrande\n",
        "\n",
        "R0_CampinaGrande = 0 # Número Inicial de Indivíduos Recuperados no CampinaGrande\n",
        "\n",
        "S0_CampinaGrande = populacaoCampinaGrande - I0_CampinaGrande # S0 = Suscetíveis à infecção inicialmente\n",
        "\n",
        "taxaInfeccaoCampinaGrande = taxaInfeccaoCampinaGrandeCalculo # Taxa de contato/infecção (beta)\n",
        "\n",
        "dias = 15\n",
        "gama_CampinaGrande = 1/dias # Taxa média de recuperação (gama) = 1/dias\n",
        "\n",
        "tempo_CampinaGrande = np.linspace(0, 40, 40)"
      ],
      "metadata": {
        "id": "ovfzHxSY9K9w"
      },
      "execution_count": 37,
      "outputs": []
    },
    {
      "cell_type": "code",
      "source": [
        "def equacoesSISs(y_CampinaGrande, tempo_CampinaGrande, populacaoCampinaGrande, taxaInfeccaoCampinaGrande, gama_CampinaGrande):\n",
        "    S_CampinaGrande, I_CampinaGrande= y_CampinaGrande\n",
        "    dSdt_CampinaGrande = -taxaInfeccaoCampinaGrande * S_CampinaGrande * I_CampinaGrande / populacaoCampinaGrande + gama_CampinaGrande * I_CampinaGrande\n",
        "    dIdt_CampinaGrande = taxaInfeccaoCampinaGrande * S_CampinaGrande * I_CampinaGrande / populacaoCampinaGrande - gama_CampinaGrande * I_CampinaGrande\n",
        "    return dSdt_CampinaGrande, dIdt_CampinaGrande\n",
        "\n",
        "# Vetor de condições iniciais\n",
        "y0_CampinaGrande = S0_CampinaGrande, I0_CampinaGrande \n",
        "\n",
        "# Integração das equações SIS no tempo\n",
        "i = odeint(equacoesSISs, y0_CampinaGrande, tempo_CampinaGrande, args=(populacaoCampinaGrande, taxaInfeccaoCampinaGrande, gama_CampinaGrande))\n",
        "S_CampinaGrande, I_CampinaGrande = i.T"
      ],
      "metadata": {
        "id": "zA5W1WJD9LGn"
      },
      "execution_count": 38,
      "outputs": []
    },
    {
      "cell_type": "code",
      "source": [
        "fig = plt.figure(figsize=(10, 4),facecolor='w')\n",
        "ax = fig.add_subplot(111, facecolor='#bad0f7', axisbelow=True)\n",
        "ax.plot(tempo_CampinaGrande, S_CampinaGrande/100000, 'b', alpha=0.9, lw=2, label='Suscetíveis')\n",
        "ax.plot(tempo_CampinaGrande, I_CampinaGrande/100000, 'r', alpha=0.9, lw=2, label='Infectados')\n",
        "ax.set_xlabel('Tempo (dias)')\n",
        "ax.set_ylabel('Número População (100000)')\n",
        "ax.set_ylim(0,4.2)\n",
        "ax.yaxis.set_tick_params(length=0)\n",
        "ax.xaxis.set_tick_params(length=0)\n",
        "ax.grid(b=True, which='major', c='w', lw=2, ls='-')\n",
        "plt.axis(xmin=-1, xmax=40, ymin=-1, ymax=6)\n",
        "legend = ax.legend()\n",
        "legend.get_frame().set_alpha(0.5)\n",
        "for spine in ('top', 'right', 'bottom', 'left'):\n",
        "    ax.spines[spine].set_visible(False)\n",
        "plt.show()"
      ],
      "metadata": {
        "colab": {
          "base_uri": "https://localhost:8080/",
          "height": 280
        },
        "id": "tcNdePUY9LJG",
        "outputId": "5dc95bf3-2237-48a2-b2bc-96e1f5e2a39d"
      },
      "execution_count": 41,
      "outputs": [
        {
          "output_type": "display_data",
          "data": {
            "text/plain": [
              "<Figure size 720x288 with 1 Axes>"
            ],
            "image/png": "[encoded data removed]"
          },
          "metadata": {}
        }
      ]
    },
    {
      "cell_type": "markdown",
      "source": [
        "#Análise dos Dados dos Bairros\n"
      ],
      "metadata": {
        "id": "8qBwRG3vwUIT"
      }
    },
    {
      "cell_type": "markdown",
      "source": [
        "Modelo SIS para os Dados do bairro de Bodocongó"
      ],
      "metadata": {
        "id": "zkhdMAy8wmpa"
      }
    },
    {
      "cell_type": "code",
      "source": [
        "populacaoBodocongo = 3938\n",
        "# taxaInfeccaoBodocongoCalculo = ((BodocongoDataSet.cum_casos[14] - BodocongoDataSet.cum_casos[0])/ populacaoBodocongo) * 100000\n",
        "taxaInfeccaoBodocongoCalculo = 2.47\n",
        "taxaInfeccaoBodocongoCalculo"
      ],
      "metadata": {
        "colab": {
          "base_uri": "https://localhost:8080/"
        },
        "id": "QGtgwIdkwpMS",
        "outputId": "e910e8fe-7368-4e1a-82af-0f26393cd0f0"
      },
      "execution_count": 42,
      "outputs": [
        {
          "output_type": "execute_result",
          "data": {
            "text/plain": [
              "2.47"
            ]
          },
          "metadata": {},
          "execution_count": 42
        }
      ]
    },
    {
      "cell_type": "code",
      "source": [
        "I0_Bodocongo = 1 # # Número Inicial de Indivíduos Infectados no Bodocongo\n",
        "\n",
        "R0_Bodocongo = 0 # Número Inicial de Indivíduos Recuperados no Bodocongo\n",
        "\n",
        "S0_Bodocongo = populacaoBodocongo - I0_Bodocongo # S0 = Suscetíveis à infecção inicialmente\n",
        "\n",
        "taxaInfeccaoBodocongo = taxaInfeccaoBodocongoCalculo # Taxa de contato/infecção (beta)\n",
        "\n",
        "dias = 15\n",
        "gama_Bodocongo = 1/dias # Taxa média de recuperação (gama) = 1/dias\n",
        "\n",
        "tempo_Bodocongo = np.linspace(0, 40, 40)"
      ],
      "metadata": {
        "id": "GAEQ8J_n-aHW"
      },
      "execution_count": 43,
      "outputs": []
    },
    {
      "cell_type": "code",
      "source": [
        "def equacoesSISs(y_Bodocongo, tempo_Bodocongo, populacaoBodocongo, taxaInfeccaoBodocongo, gama_Bodocongo):\n",
        "    S_Bodocongo, I_Bodocongo= y_Bodocongo\n",
        "    dSdt_Bodocongo = -taxaInfeccaoBodocongo * S_Bodocongo * I_Bodocongo / populacaoBodocongo + gama_Bodocongo * I_Bodocongo\n",
        "    dIdt_Bodocongo = taxaInfeccaoBodocongo * S_Bodocongo * I_Bodocongo / populacaoBodocongo - gama_Bodocongo * I_Bodocongo\n",
        "    return dSdt_Bodocongo, dIdt_Bodocongo\n",
        "\n",
        "# Vetor de condições iniciais\n",
        "y0_Bodocongo = S0_Bodocongo, I0_Bodocongo \n",
        "\n",
        "# Integração das equações SIS no tempo\n",
        "i = odeint(equacoesSISs, y0_Bodocongo, tempo_Bodocongo, args=(populacaoBodocongo, taxaInfeccaoBodocongo, gama_Bodocongo))\n",
        "S_Bodocongo, I_Bodocongo = i.T"
      ],
      "metadata": {
        "id": "su65uVYL-aNS"
      },
      "execution_count": 45,
      "outputs": []
    },
    {
      "cell_type": "code",
      "source": [
        "fig = plt.figure(figsize=(10, 4),facecolor='w')\n",
        "ax = fig.add_subplot(111, facecolor='#bad0f7', axisbelow=True)\n",
        "ax.plot(tempo_Bodocongo, S_Bodocongo/1000, 'b', alpha=0.9, lw=2, label='Suscetíveis')\n",
        "ax.plot(tempo_Bodocongo, I_Bodocongo/1000, 'r', alpha=0.9, lw=2, label='Infectados')\n",
        "ax.set_xlabel('Tempo (dias)')\n",
        "ax.set_ylabel('Número População (1000)')\n",
        "ax.set_ylim(0,4.2)\n",
        "ax.yaxis.set_tick_params(length=0)\n",
        "ax.xaxis.set_tick_params(length=0)\n",
        "ax.grid(b=True, which='major', c='w', lw=2, ls='-')\n",
        "plt.axis(xmin=-1, xmax=40, ymin=-1, ymax=6)\n",
        "legend = ax.legend()\n",
        "legend.get_frame().set_alpha(0.5)\n",
        "for spine in ('top', 'right', 'bottom', 'left'):\n",
        "    ax.spines[spine].set_visible(False)\n",
        "plt.show()"
      ],
      "metadata": {
        "colab": {
          "base_uri": "https://localhost:8080/",
          "height": 280
        },
        "id": "3S8rBuLD-aQ8",
        "outputId": "17670d34-b8f9-4951-9527-49bf5104564a"
      },
      "execution_count": 54,
      "outputs": [
        {
          "output_type": "display_data",
          "data": {
            "text/plain": [
              "<Figure size 720x288 with 1 Axes>"
            ],
            "image/png": "[encoded data removed]"
          },
          "metadata": {}
        }
      ]
    },
    {
      "cell_type": "markdown",
      "source": [
        "Modelo SIS para os Dados do bairro do Catolé"
      ],
      "metadata": {
        "id": "zzbotgI3wsa3"
      }
    },
    {
      "cell_type": "code",
      "source": [
        "populacaoCatole = 5896\n",
        "# taxaInfeccaoCatoleCalculo = ((CatoleDataSet.cum_casos[14] - CatoleDataSet.cum_casos[0])/ populacaoCatole) * 100000\n",
        "taxaInfeccaoCatoleCalculo = 2.47\n",
        "taxaInfeccaoCatoleCalculo"
      ],
      "metadata": {
        "colab": {
          "base_uri": "https://localhost:8080/"
        },
        "id": "upR68-hywtD2",
        "outputId": "e2ce4394-145d-4e7e-c480-52c38258a295"
      },
      "execution_count": 55,
      "outputs": [
        {
          "output_type": "execute_result",
          "data": {
            "text/plain": [
              "2.47"
            ]
          },
          "metadata": {},
          "execution_count": 55
        }
      ]
    },
    {
      "cell_type": "code",
      "source": [
        "I0_Catole = 1 # # Número Inicial de Indivíduos Infectados no Catole\n",
        "\n",
        "R0_Catole = 0 # Número Inicial de Indivíduos Recuperados no Catole\n",
        "\n",
        "S0_Catole = populacaoCatole - I0_Catole # S0 = Suscetíveis à infecção inicialmente\n",
        "\n",
        "taxaInfeccaoCatole = taxaInfeccaoCatoleCalculo # Taxa de contato/infecção (beta)\n",
        "\n",
        "dias = 15\n",
        "gama_Catole = 1/dias # Taxa média de recuperação (gama) = 1/dias\n",
        "\n",
        "tempo_Catole = np.linspace(0, 40, 40)"
      ],
      "metadata": {
        "id": "-w6LNF7uAC3q"
      },
      "execution_count": 56,
      "outputs": []
    },
    {
      "cell_type": "code",
      "source": [
        "def equacoesSISs(y_Catole, tempo_Catole, populacaoCatole, taxaInfeccaoCatole, gama_Catole):\n",
        "    S_Catole, I_Catole= y_Catole\n",
        "    dSdt_Catole = -taxaInfeccaoCatole * S_Catole * I_Catole / populacaoCatole + gama_Catole * I_Catole\n",
        "    dIdt_Catole = taxaInfeccaoCatole * S_Catole * I_Catole / populacaoCatole - gama_Catole * I_Catole\n",
        "    return dSdt_Catole, dIdt_Catole\n",
        "\n",
        "# Vetor de condições iniciais\n",
        "y0_Catole = S0_Catole, I0_Catole \n",
        "\n",
        "# Integração das equações SIS no tempo\n",
        "i = odeint(equacoesSISs, y0_Catole, tempo_Catole, args=(populacaoCatole, taxaInfeccaoCatole, gama_Catole))\n",
        "S_Catole, I_Catole = i.T"
      ],
      "metadata": {
        "id": "dGzcYm1hAC6O"
      },
      "execution_count": 57,
      "outputs": []
    },
    {
      "cell_type": "code",
      "source": [
        "fig = plt.figure(figsize=(10, 4),facecolor='w')\n",
        "ax = fig.add_subplot(111, facecolor='#bad0f7', axisbelow=True)\n",
        "ax.plot(tempo_Catole, S_Catole/1000, 'b', alpha=0.9, lw=2, label='Suscetíveis')\n",
        "ax.plot(tempo_Catole, I_Catole/1000, 'r', alpha=0.9, lw=2, label='Infectados')\n",
        "ax.set_xlabel('Tempo (dias)')\n",
        "ax.set_ylabel('Número População (1000)')\n",
        "ax.set_ylim(0,4.2)\n",
        "ax.yaxis.set_tick_params(length=0)\n",
        "ax.xaxis.set_tick_params(length=0)\n",
        "ax.grid(b=True, which='major', c='w', lw=2, ls='-')\n",
        "plt.axis(xmin=-1, xmax=40, ymin=-1, ymax=8)\n",
        "legend = ax.legend()\n",
        "legend.get_frame().set_alpha(0.5)\n",
        "for spine in ('top', 'right', 'bottom', 'left'):\n",
        "    ax.spines[spine].set_visible(False)\n",
        "plt.show()"
      ],
      "metadata": {
        "colab": {
          "base_uri": "https://localhost:8080/",
          "height": 280
        },
        "id": "n736KLZQADBc",
        "outputId": "fda827b5-68fd-4afc-c958-74f65e2c777f"
      },
      "execution_count": 59,
      "outputs": [
        {
          "output_type": "display_data",
          "data": {
            "text/plain": [
              "<Figure size 720x288 with 1 Axes>"
            ],
            "image/png": "[encoded data removed]"
          },
          "metadata": {}
        }
      ]
    },
    {
      "cell_type": "markdown",
      "source": [
        "Modelo SIS para os Dados do bairro das Malvinas"
      ],
      "metadata": {
        "id": "YY43pVygwtMN"
      }
    },
    {
      "cell_type": "code",
      "source": [
        "populacaoMalvinas = 10909\n",
        "# taxaInfeccaoMalvinasCalculo = ((MalvinasDataSet.cum_casos[14] - MalvinasDataSet.cum_casos[0])/ populacaoMalvinas) * 100000\n",
        "taxaInfeccaoMalvinasCalculo = 2.47\n",
        "taxaInfeccaoMalvinasCalculo"
      ],
      "metadata": {
        "colab": {
          "base_uri": "https://localhost:8080/"
        },
        "id": "6qMN5NZvwwNM",
        "outputId": "1e301df1-b18a-4982-ae6d-5c19a723cf32"
      },
      "execution_count": 60,
      "outputs": [
        {
          "output_type": "execute_result",
          "data": {
            "text/plain": [
              "2.47"
            ]
          },
          "metadata": {},
          "execution_count": 60
        }
      ]
    },
    {
      "cell_type": "code",
      "source": [
        "I0_Malvinas = 1 # # Número Inicial de Indivíduos Infectados no Malvinas\n",
        "\n",
        "R0_Malvinas = 0 # Número Inicial de Indivíduos Recuperados no Malvinas\n",
        "\n",
        "S0_Malvinas = populacaoMalvinas - I0_Malvinas # S0 = Suscetíveis à infecção inicialmente\n",
        "\n",
        "taxaInfeccaoMalvinas = taxaInfeccaoMalvinasCalculo # Taxa de contato/infecção (beta)\n",
        "\n",
        "dias = 15\n",
        "gama_Malvinas = 1/dias # Taxa média de recuperação (gama) = 1/dias\n",
        "\n",
        "tempo_Malvinas = np.linspace(0, 40, 40)"
      ],
      "metadata": {
        "id": "Fcjz4E_yAqLc"
      },
      "execution_count": 61,
      "outputs": []
    },
    {
      "cell_type": "code",
      "source": [
        "def equacoesSISs(y_Malvinas, tempo_Malvinas, populacaoMalvinas, taxaInfeccaoMalvinas, gama_Malvinas):\n",
        "    S_Malvinas, I_Malvinas= y_Malvinas\n",
        "    dSdt_Malvinas = -taxaInfeccaoMalvinas * S_Malvinas * I_Malvinas / populacaoMalvinas + gama_Malvinas * I_Malvinas\n",
        "    dIdt_Malvinas = taxaInfeccaoMalvinas * S_Malvinas * I_Malvinas / populacaoMalvinas - gama_Malvinas * I_Malvinas\n",
        "    return dSdt_Malvinas, dIdt_Malvinas\n",
        "\n",
        "# Vetor de condições iniciais\n",
        "y0_Malvinas = S0_Malvinas, I0_Malvinas \n",
        "\n",
        "# Integração das equações SIS no tempo\n",
        "i = odeint(equacoesSISs, y0_Malvinas, tempo_Malvinas, args=(populacaoMalvinas, taxaInfeccaoMalvinas, gama_Malvinas))\n",
        "S_Malvinas, I_Malvinas = i.T"
      ],
      "metadata": {
        "id": "Y9kqhTdhAqOq"
      },
      "execution_count": 62,
      "outputs": []
    },
    {
      "cell_type": "code",
      "source": [
        "fig = plt.figure(figsize=(10, 4),facecolor='w')\n",
        "ax = fig.add_subplot(111, facecolor='#bad0f7', axisbelow=True)\n",
        "ax.plot(tempo_Malvinas, S_Malvinas/1000, 'b', alpha=0.9, lw=2, label='Suscetíveis')\n",
        "ax.plot(tempo_Malvinas, I_Malvinas/1000, 'r', alpha=0.9, lw=2, label='Infectados')\n",
        "ax.set_xlabel('Tempo (dias)')\n",
        "ax.set_ylabel('Número População (1000)')\n",
        "ax.set_ylim(0,4.2)\n",
        "ax.yaxis.set_tick_params(length=0)\n",
        "ax.xaxis.set_tick_params(length=0)\n",
        "ax.grid(b=True, which='major', c='w', lw=2, ls='-')\n",
        "plt.axis(xmin=-1, xmax=40, ymin=-1, ymax=12)\n",
        "legend = ax.legend()\n",
        "legend.get_frame().set_alpha(0.5)\n",
        "for spine in ('top', 'right', 'bottom', 'left'):\n",
        "    ax.spines[spine].set_visible(False)\n",
        "plt.show()"
      ],
      "metadata": {
        "colab": {
          "base_uri": "https://localhost:8080/",
          "height": 280
        },
        "id": "k4-FBv7OAqRv",
        "outputId": "ae03ed1a-355a-4e6b-b469-a9d31a0a2c15"
      },
      "execution_count": 64,
      "outputs": [
        {
          "output_type": "display_data",
          "data": {
            "text/plain": [
              "<Figure size 720x288 with 1 Axes>"
            ],
            "image/png": "[encoded data removed]"
          },
          "metadata": {}
        }
      ]
    }
  ]
}